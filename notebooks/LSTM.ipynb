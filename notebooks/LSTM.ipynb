{
  "cells": [
    {
      "cell_type": "markdown",
      "metadata": {
        "id": "EegTzP2pX942"
      },
      "source": [
        "# Setup"
      ]
    },
    {
      "cell_type": "code",
      "execution_count": null,
      "metadata": {
        "id": "n-_rh6M8Eieo"
      },
      "outputs": [],
      "source": [
        "%%capture\n",
        "!pip install ta\n",
        "!pip install yfinance"
      ]
    },
    {
      "cell_type": "code",
      "execution_count": null,
      "metadata": {
        "id": "9uAAMq_UEW7i"
      },
      "outputs": [],
      "source": [
        "import gc\n",
        "import os\n",
        "import sys\n",
        "import math\n",
        "import time\n",
        "import random\n",
        "import pprint\n",
        "\n",
        "import ta\n",
        "import numpy as np\n",
        "import pandas as pd\n",
        "import yfinance as yf\n",
        "\n",
        "import torch\n",
        "import torch.nn as nn\n",
        "import torch.optim as optim\n",
        "from torch.utils.data import Dataset\n",
        "from torch.utils.data import DataLoader\n",
        "\n",
        "import matplotlib.pyplot as plt\n",
        "from matplotlib.pyplot import figure\n",
        "\n",
        "from sklearn.preprocessing import MinMaxScaler\n",
        "from sklearn.model_selection import train_test_split\n",
        "from sklearn.metrics import mean_absolute_error, mean_squared_error, r2_score"
      ]
    },
    {
      "cell_type": "code",
      "execution_count": null,
      "metadata": {
        "id": "i5f-SNxtEW7l"
      },
      "outputs": [],
      "source": [
        "SEED = 42"
      ]
    },
    {
      "cell_type": "code",
      "execution_count": null,
      "metadata": {
        "id": "xzqTRvoMEW7m"
      },
      "outputs": [],
      "source": [
        "device = torch.device('cuda' if torch.cuda.is_available() else 'cpu')"
      ]
    },
    {
      "cell_type": "code",
      "execution_count": null,
      "metadata": {
        "id": "DZhYl4TaEW7m"
      },
      "outputs": [],
      "source": [
        "pd.options.mode.chained_assignment = None\n",
        "\n",
        "plt.style.use('seaborn')\n",
        "\n",
        "torch.manual_seed(0)\n",
        "np.random.seed(0)\n",
        "random.seed(0)"
      ]
    },
    {
      "cell_type": "code",
      "execution_count": null,
      "metadata": {
        "colab": {
          "base_uri": "https://localhost:8080/"
        },
        "id": "uXrNyu5Hi3h3",
        "outputId": "1a86b95f-b8d8-462a-d2a6-62d78cf71cfa"
      },
      "outputs": [
        {
          "name": "stdout",
          "output_type": "stream",
          "text": [
            "Tue Apr 12 06:16:28 2022       \n",
            "+-----------------------------------------------------------------------------+\n",
            "| NVIDIA-SMI 460.32.03    Driver Version: 460.32.03    CUDA Version: 11.2     |\n",
            "|-------------------------------+----------------------+----------------------+\n",
            "| GPU  Name        Persistence-M| Bus-Id        Disp.A | Volatile Uncorr. ECC |\n",
            "| Fan  Temp  Perf  Pwr:Usage/Cap|         Memory-Usage | GPU-Util  Compute M. |\n",
            "|                               |                      |               MIG M. |\n",
            "|===============================+======================+======================|\n",
            "|   0  Tesla T4            Off  | 00000000:00:04.0 Off |                    0 |\n",
            "| N/A   69C    P8    15W /  70W |      3MiB / 15109MiB |      0%      Default |\n",
            "|                               |                      |                  N/A |\n",
            "+-------------------------------+----------------------+----------------------+\n",
            "                                                                               \n",
            "+-----------------------------------------------------------------------------+\n",
            "| Processes:                                                                  |\n",
            "|  GPU   GI   CI        PID   Type   Process name                  GPU Memory |\n",
            "|        ID   ID                                                   Usage      |\n",
            "|=============================================================================|\n",
            "|  No running processes found                                                 |\n",
            "+-----------------------------------------------------------------------------+\n"
          ]
        }
      ],
      "source": [
        "!nvidia-smi"
      ]
    },
    {
      "cell_type": "code",
      "execution_count": null,
      "metadata": {
        "id": "qSJ5AqerEW7o"
      },
      "outputs": [],
      "source": [
        "# Create a function to plot time series data\n",
        "def plot_time_series(data_to_plot, xticks_interval=90, ylabel=\"Price\"):\n",
        "    fig = figure(figsize=(25, 5), dpi=80)\n",
        "    fig.patch.set_facecolor((1.0, 1.0, 1.0))\n",
        "\n",
        "    plt.plot(data_to_plot.index,\n",
        "            data_to_plot['Close'], color='black', label='Close')\n",
        "\n",
        "    # make x ticks nice\n",
        "    xticks = [data_to_plot.index[i] if ((i % xticks_interval == 0 and (\n",
        "        data_to_plot.shape[0]-i) > xticks_interval) or i == data_to_plot.shape[0]-1) else None for i in range(data_to_plot.shape[0])]\n",
        "    x = np.arange(0, len(xticks))\n",
        "    plt.xticks(x, xticks, rotation='vertical')\n",
        "    \n",
        "    plt.xlabel(\"Date\")\n",
        "    plt.ylabel(ylabel)\n",
        "\n",
        "    plt.grid(False)\n",
        "    plt.show()\n"
      ]
    },
    {
      "cell_type": "code",
      "execution_count": null,
      "metadata": {
        "id": "yoL8IQXDEW7o"
      },
      "outputs": [],
      "source": [
        "def create_dataset(ticker, start_date, end_date):\n",
        "    \"\"\"Download data from yFinance and store it as a csv file\n",
        "    \"\"\"\n",
        "    data = yf.download(\n",
        "        tickers=ticker,\n",
        "        start=start_date,\n",
        "        end=end_date,\n",
        "        interval='1h',\n",
        "        actions=False,\n",
        "        prepost=True,\n",
        "        auto_adjust=True,\n",
        "        back_adjust=True,\n",
        "        index_as_date=True,\n",
        "        threads=True,\n",
        "    )\n",
        "    return data"
      ]
    },
    {
      "cell_type": "code",
      "execution_count": null,
      "metadata": {
        "id": "qrCaJ2z2kOqu"
      },
      "outputs": [],
      "source": [
        "def calculate_metrics(actual, prediction):\n",
        "    print(\n",
        "        {   'mae' : format(mean_absolute_error(actual, prediction), '.4f'),\n",
        "            'rmse' : format(mean_squared_error(actual, prediction) ** 0.5, '.4f'),\n",
        "            'r2' : format(r2_score(actual, prediction), '.4f')\n",
        "        }\n",
        "    )"
      ]
    },
    {
      "cell_type": "markdown",
      "metadata": {
        "id": "jpj2eqENZKAc"
      },
      "source": [
        "# Hyperparameters"
      ]
    },
    {
      "cell_type": "code",
      "execution_count": null,
      "metadata": {
        "id": "qmR4wzNqZLnI"
      },
      "outputs": [],
      "source": [
        "HORIZON = 1 # predict x steps at a time\n",
        "WINDOW_SIZE = 96  # use the last x hours to predict the next\n",
        "\n",
        "TEST_SIZE = 0.2  # use the last 20% of the data as test data\n",
        "\n",
        "EPOCHS = 50\n",
        "LR = 0.001\n",
        "\n",
        "HIDDEN_DIM = 16\n",
        "NUM_LAYERS = 3"
      ]
    },
    {
      "cell_type": "markdown",
      "metadata": {
        "id": "PN499b-_YAoC"
      },
      "source": [
        "# Get the Data"
      ]
    },
    {
      "cell_type": "code",
      "execution_count": null,
      "metadata": {
        "colab": {
          "base_uri": "https://localhost:8080/",
          "height": 455
        },
        "id": "PTxjzK88EW7p",
        "outputId": "72b32dd2-f2d7-48cd-ec3b-1f0dc997da85"
      },
      "outputs": [
        {
          "data": {
            "text/html": [
              "\n",
              "  <div id=\"df-974e5203-b1bd-4bad-89a6-e5eae6519c7e\">\n",
              "    <div class=\"colab-df-container\">\n",
              "      <div>\n",
              "<style scoped>\n",
              "    .dataframe tbody tr th:only-of-type {\n",
              "        vertical-align: middle;\n",
              "    }\n",
              "\n",
              "    .dataframe tbody tr th {\n",
              "        vertical-align: top;\n",
              "    }\n",
              "\n",
              "    .dataframe thead th {\n",
              "        text-align: right;\n",
              "    }\n",
              "</style>\n",
              "<table border=\"1\" class=\"dataframe\">\n",
              "  <thead>\n",
              "    <tr style=\"text-align: right;\">\n",
              "      <th></th>\n",
              "      <th>Open</th>\n",
              "      <th>High</th>\n",
              "      <th>Low</th>\n",
              "      <th>Close</th>\n",
              "      <th>Volume</th>\n",
              "    </tr>\n",
              "    <tr>\n",
              "      <th>Date</th>\n",
              "      <th></th>\n",
              "      <th></th>\n",
              "      <th></th>\n",
              "      <th></th>\n",
              "      <th></th>\n",
              "    </tr>\n",
              "  </thead>\n",
              "  <tbody>\n",
              "    <tr>\n",
              "      <th>2020-05-01 00:00:00+00:00</th>\n",
              "      <td>7919.458008</td>\n",
              "      <td>8011.712891</td>\n",
              "      <td>7919.458008</td>\n",
              "      <td>7981.766113</td>\n",
              "      <td>0</td>\n",
              "    </tr>\n",
              "    <tr>\n",
              "      <th>2020-05-01 01:00:00+00:00</th>\n",
              "      <td>7986.103027</td>\n",
              "      <td>8026.972168</td>\n",
              "      <td>7965.565430</td>\n",
              "      <td>7966.056152</td>\n",
              "      <td>0</td>\n",
              "    </tr>\n",
              "    <tr>\n",
              "      <th>2020-05-01 02:00:00+00:00</th>\n",
              "      <td>7966.387207</td>\n",
              "      <td>8002.230469</td>\n",
              "      <td>7961.483887</td>\n",
              "      <td>8000.551758</td>\n",
              "      <td>0</td>\n",
              "    </tr>\n",
              "    <tr>\n",
              "      <th>2020-05-01 03:00:00+00:00</th>\n",
              "      <td>8000.727051</td>\n",
              "      <td>8009.870117</td>\n",
              "      <td>7962.763672</td>\n",
              "      <td>7963.717773</td>\n",
              "      <td>0</td>\n",
              "    </tr>\n",
              "    <tr>\n",
              "      <th>2020-05-01 04:00:00+00:00</th>\n",
              "      <td>7963.717773</td>\n",
              "      <td>8022.688965</td>\n",
              "      <td>7960.450684</td>\n",
              "      <td>8022.688965</td>\n",
              "      <td>0</td>\n",
              "    </tr>\n",
              "    <tr>\n",
              "      <th>...</th>\n",
              "      <td>...</td>\n",
              "      <td>...</td>\n",
              "      <td>...</td>\n",
              "      <td>...</td>\n",
              "      <td>...</td>\n",
              "    </tr>\n",
              "    <tr>\n",
              "      <th>2022-03-30 19:00:00+00:00</th>\n",
              "      <td>42398.960938</td>\n",
              "      <td>42398.960938</td>\n",
              "      <td>42068.750000</td>\n",
              "      <td>42173.929688</td>\n",
              "      <td>173043712</td>\n",
              "    </tr>\n",
              "    <tr>\n",
              "      <th>2022-03-30 20:00:00+00:00</th>\n",
              "      <td>42175.152344</td>\n",
              "      <td>42305.964844</td>\n",
              "      <td>42168.855469</td>\n",
              "      <td>42305.964844</td>\n",
              "      <td>189313024</td>\n",
              "    </tr>\n",
              "    <tr>\n",
              "      <th>2022-03-30 21:00:00+00:00</th>\n",
              "      <td>42303.511719</td>\n",
              "      <td>42348.859375</td>\n",
              "      <td>42087.792969</td>\n",
              "      <td>42087.792969</td>\n",
              "      <td>24156160</td>\n",
              "    </tr>\n",
              "    <tr>\n",
              "      <th>2022-03-30 22:00:00+00:00</th>\n",
              "      <td>42091.972656</td>\n",
              "      <td>42154.015625</td>\n",
              "      <td>42030.078125</td>\n",
              "      <td>42154.015625</td>\n",
              "      <td>0</td>\n",
              "    </tr>\n",
              "    <tr>\n",
              "      <th>2022-03-30 23:00:00+00:00</th>\n",
              "      <td>42153.453125</td>\n",
              "      <td>42266.132812</td>\n",
              "      <td>42153.453125</td>\n",
              "      <td>42190.273438</td>\n",
              "      <td>162035712</td>\n",
              "    </tr>\n",
              "  </tbody>\n",
              "</table>\n",
              "<p>16392 rows × 5 columns</p>\n",
              "</div>\n",
              "      <button class=\"colab-df-convert\" onclick=\"convertToInteractive('df-974e5203-b1bd-4bad-89a6-e5eae6519c7e')\"\n",
              "              title=\"Convert this dataframe to an interactive table.\"\n",
              "              style=\"display:none;\">\n",
              "        \n",
              "  <svg xmlns=\"http://www.w3.org/2000/svg\" height=\"24px\"viewBox=\"0 0 24 24\"\n",
              "       width=\"24px\">\n",
              "    <path d=\"M0 0h24v24H0V0z\" fill=\"none\"/>\n",
              "    <path d=\"M18.56 5.44l.94 2.06.94-2.06 2.06-.94-2.06-.94-.94-2.06-.94 2.06-2.06.94zm-11 1L8.5 8.5l.94-2.06 2.06-.94-2.06-.94L8.5 2.5l-.94 2.06-2.06.94zm10 10l.94 2.06.94-2.06 2.06-.94-2.06-.94-.94-2.06-.94 2.06-2.06.94z\"/><path d=\"M17.41 7.96l-1.37-1.37c-.4-.4-.92-.59-1.43-.59-.52 0-1.04.2-1.43.59L10.3 9.45l-7.72 7.72c-.78.78-.78 2.05 0 2.83L4 21.41c.39.39.9.59 1.41.59.51 0 1.02-.2 1.41-.59l7.78-7.78 2.81-2.81c.8-.78.8-2.07 0-2.86zM5.41 20L4 18.59l7.72-7.72 1.47 1.35L5.41 20z\"/>\n",
              "  </svg>\n",
              "      </button>\n",
              "      \n",
              "  <style>\n",
              "    .colab-df-container {\n",
              "      display:flex;\n",
              "      flex-wrap:wrap;\n",
              "      gap: 12px;\n",
              "    }\n",
              "\n",
              "    .colab-df-convert {\n",
              "      background-color: #E8F0FE;\n",
              "      border: none;\n",
              "      border-radius: 50%;\n",
              "      cursor: pointer;\n",
              "      display: none;\n",
              "      fill: #1967D2;\n",
              "      height: 32px;\n",
              "      padding: 0 0 0 0;\n",
              "      width: 32px;\n",
              "    }\n",
              "\n",
              "    .colab-df-convert:hover {\n",
              "      background-color: #E2EBFA;\n",
              "      box-shadow: 0px 1px 2px rgba(60, 64, 67, 0.3), 0px 1px 3px 1px rgba(60, 64, 67, 0.15);\n",
              "      fill: #174EA6;\n",
              "    }\n",
              "\n",
              "    [theme=dark] .colab-df-convert {\n",
              "      background-color: #3B4455;\n",
              "      fill: #D2E3FC;\n",
              "    }\n",
              "\n",
              "    [theme=dark] .colab-df-convert:hover {\n",
              "      background-color: #434B5C;\n",
              "      box-shadow: 0px 1px 3px 1px rgba(0, 0, 0, 0.15);\n",
              "      filter: drop-shadow(0px 1px 2px rgba(0, 0, 0, 0.3));\n",
              "      fill: #FFFFFF;\n",
              "    }\n",
              "  </style>\n",
              "\n",
              "      <script>\n",
              "        const buttonEl =\n",
              "          document.querySelector('#df-974e5203-b1bd-4bad-89a6-e5eae6519c7e button.colab-df-convert');\n",
              "        buttonEl.style.display =\n",
              "          google.colab.kernel.accessAllowed ? 'block' : 'none';\n",
              "\n",
              "        async function convertToInteractive(key) {\n",
              "          const element = document.querySelector('#df-974e5203-b1bd-4bad-89a6-e5eae6519c7e');\n",
              "          const dataTable =\n",
              "            await google.colab.kernel.invokeFunction('convertToInteractive',\n",
              "                                                     [key], {});\n",
              "          if (!dataTable) return;\n",
              "\n",
              "          const docLinkHtml = 'Like what you see? Visit the ' +\n",
              "            '<a target=\"_blank\" href=https://colab.research.google.com/notebooks/data_table.ipynb>data table notebook</a>'\n",
              "            + ' to learn more about interactive tables.';\n",
              "          element.innerHTML = '';\n",
              "          dataTable['output_type'] = 'display_data';\n",
              "          await google.colab.output.renderOutput(dataTable, element);\n",
              "          const docLink = document.createElement('div');\n",
              "          docLink.innerHTML = docLinkHtml;\n",
              "          element.appendChild(docLink);\n",
              "        }\n",
              "      </script>\n",
              "    </div>\n",
              "  </div>\n",
              "  "
            ],
            "text/plain": [
              "                                   Open          High           Low  \\\n",
              "Date                                                                  \n",
              "2020-05-01 00:00:00+00:00   7919.458008   8011.712891   7919.458008   \n",
              "2020-05-01 01:00:00+00:00   7986.103027   8026.972168   7965.565430   \n",
              "2020-05-01 02:00:00+00:00   7966.387207   8002.230469   7961.483887   \n",
              "2020-05-01 03:00:00+00:00   8000.727051   8009.870117   7962.763672   \n",
              "2020-05-01 04:00:00+00:00   7963.717773   8022.688965   7960.450684   \n",
              "...                                 ...           ...           ...   \n",
              "2022-03-30 19:00:00+00:00  42398.960938  42398.960938  42068.750000   \n",
              "2022-03-30 20:00:00+00:00  42175.152344  42305.964844  42168.855469   \n",
              "2022-03-30 21:00:00+00:00  42303.511719  42348.859375  42087.792969   \n",
              "2022-03-30 22:00:00+00:00  42091.972656  42154.015625  42030.078125   \n",
              "2022-03-30 23:00:00+00:00  42153.453125  42266.132812  42153.453125   \n",
              "\n",
              "                                  Close     Volume  \n",
              "Date                                                \n",
              "2020-05-01 00:00:00+00:00   7981.766113          0  \n",
              "2020-05-01 01:00:00+00:00   7966.056152          0  \n",
              "2020-05-01 02:00:00+00:00   8000.551758          0  \n",
              "2020-05-01 03:00:00+00:00   7963.717773          0  \n",
              "2020-05-01 04:00:00+00:00   8022.688965          0  \n",
              "...                                 ...        ...  \n",
              "2022-03-30 19:00:00+00:00  42173.929688  173043712  \n",
              "2022-03-30 20:00:00+00:00  42305.964844  189313024  \n",
              "2022-03-30 21:00:00+00:00  42087.792969   24156160  \n",
              "2022-03-30 22:00:00+00:00  42154.015625          0  \n",
              "2022-03-30 23:00:00+00:00  42190.273438  162035712  \n",
              "\n",
              "[16392 rows x 5 columns]"
            ]
          },
          "execution_count": 11,
          "metadata": {},
          "output_type": "execute_result"
        }
      ],
      "source": [
        "# Get the data\n",
        "ticker = \"BTC-EUR\"\n",
        "start_date = '2020-05-01'\n",
        "end_date = '2022-03-31'\n",
        "path_to_csv = os.path.join(\".\", ticker + \"-hourly.csv\")\n",
        "\n",
        "if not os.path.exists(path_to_csv):\n",
        "    df = create_dataset(ticker, start_date, end_date)\n",
        "    df.to_csv(path_to_csv)\n",
        "    \n",
        "df = pd.read_csv(path_to_csv)\n",
        "df.rename(columns={'Unnamed: 0': 'Date'}, inplace=True)\n",
        "df = df.set_index('Date')\n",
        "\n",
        "df"
      ]
    },
    {
      "cell_type": "code",
      "execution_count": null,
      "metadata": {
        "id": "rnoG9fq8EW7q"
      },
      "outputs": [],
      "source": [
        "%%capture\n",
        "# Apply technicals\n",
        "df = ta.add_all_ta_features(df, open=\"Open\", high=\"High\", low=\"Low\", close=\"Close\", volume=\"Volume\", fillna=True)"
      ]
    },
    {
      "cell_type": "code",
      "execution_count": null,
      "metadata": {
        "colab": {
          "base_uri": "https://localhost:8080/",
          "height": 320
        },
        "id": "_JlxxGuxEW7r",
        "outputId": "9462dd46-4eb9-4833-f3b9-ba6b262a8ac5"
      },
      "outputs": [
        {
          "data": {
            "text/html": [
              "\n",
              "  <div id=\"df-d3461557-80b2-49d1-be63-829ed9b80c99\">\n",
              "    <div class=\"colab-df-container\">\n",
              "      <div>\n",
              "<style scoped>\n",
              "    .dataframe tbody tr th:only-of-type {\n",
              "        vertical-align: middle;\n",
              "    }\n",
              "\n",
              "    .dataframe tbody tr th {\n",
              "        vertical-align: top;\n",
              "    }\n",
              "\n",
              "    .dataframe thead th {\n",
              "        text-align: right;\n",
              "    }\n",
              "</style>\n",
              "<table border=\"1\" class=\"dataframe\">\n",
              "  <thead>\n",
              "    <tr style=\"text-align: right;\">\n",
              "      <th></th>\n",
              "      <th>Open</th>\n",
              "      <th>High</th>\n",
              "      <th>Low</th>\n",
              "      <th>Close</th>\n",
              "      <th>Volume</th>\n",
              "      <th>volume_adi</th>\n",
              "      <th>volume_obv</th>\n",
              "      <th>volume_cmf</th>\n",
              "      <th>volume_fi</th>\n",
              "      <th>volume_em</th>\n",
              "      <th>...</th>\n",
              "      <th>momentum_ppo</th>\n",
              "      <th>momentum_ppo_signal</th>\n",
              "      <th>momentum_ppo_hist</th>\n",
              "      <th>momentum_pvo</th>\n",
              "      <th>momentum_pvo_signal</th>\n",
              "      <th>momentum_pvo_hist</th>\n",
              "      <th>momentum_kama</th>\n",
              "      <th>others_dr</th>\n",
              "      <th>others_dlr</th>\n",
              "      <th>others_cr</th>\n",
              "    </tr>\n",
              "    <tr>\n",
              "      <th>Date</th>\n",
              "      <th></th>\n",
              "      <th></th>\n",
              "      <th></th>\n",
              "      <th></th>\n",
              "      <th></th>\n",
              "      <th></th>\n",
              "      <th></th>\n",
              "      <th></th>\n",
              "      <th></th>\n",
              "      <th></th>\n",
              "      <th></th>\n",
              "      <th></th>\n",
              "      <th></th>\n",
              "      <th></th>\n",
              "      <th></th>\n",
              "      <th></th>\n",
              "      <th></th>\n",
              "      <th></th>\n",
              "      <th></th>\n",
              "      <th></th>\n",
              "      <th></th>\n",
              "    </tr>\n",
              "  </thead>\n",
              "  <tbody>\n",
              "    <tr>\n",
              "      <th>2020-05-01 00:00:00+00:00</th>\n",
              "      <td>7919.458008</td>\n",
              "      <td>8011.712891</td>\n",
              "      <td>7919.458008</td>\n",
              "      <td>7981.766113</td>\n",
              "      <td>0</td>\n",
              "      <td>0.0</td>\n",
              "      <td>0</td>\n",
              "      <td>0.0</td>\n",
              "      <td>0.0</td>\n",
              "      <td>0.0</td>\n",
              "      <td>...</td>\n",
              "      <td>0.000000</td>\n",
              "      <td>0.000000</td>\n",
              "      <td>0.000000</td>\n",
              "      <td>0.0</td>\n",
              "      <td>0.0</td>\n",
              "      <td>0.0</td>\n",
              "      <td>7981.766113</td>\n",
              "      <td>-72.942054</td>\n",
              "      <td>0.000000</td>\n",
              "      <td>0.000000</td>\n",
              "    </tr>\n",
              "    <tr>\n",
              "      <th>2020-05-01 01:00:00+00:00</th>\n",
              "      <td>7986.103027</td>\n",
              "      <td>8026.972168</td>\n",
              "      <td>7965.565430</td>\n",
              "      <td>7966.056152</td>\n",
              "      <td>0</td>\n",
              "      <td>0.0</td>\n",
              "      <td>0</td>\n",
              "      <td>0.0</td>\n",
              "      <td>-0.0</td>\n",
              "      <td>0.0</td>\n",
              "      <td>...</td>\n",
              "      <td>-0.015703</td>\n",
              "      <td>-0.003141</td>\n",
              "      <td>-0.012563</td>\n",
              "      <td>0.0</td>\n",
              "      <td>0.0</td>\n",
              "      <td>0.0</td>\n",
              "      <td>7974.766637</td>\n",
              "      <td>-0.196823</td>\n",
              "      <td>-0.197017</td>\n",
              "      <td>-0.196823</td>\n",
              "    </tr>\n",
              "    <tr>\n",
              "      <th>2020-05-01 02:00:00+00:00</th>\n",
              "      <td>7966.387207</td>\n",
              "      <td>8002.230469</td>\n",
              "      <td>7961.483887</td>\n",
              "      <td>8000.551758</td>\n",
              "      <td>0</td>\n",
              "      <td>0.0</td>\n",
              "      <td>0</td>\n",
              "      <td>0.0</td>\n",
              "      <td>-0.0</td>\n",
              "      <td>0.0</td>\n",
              "      <td>...</td>\n",
              "      <td>0.006652</td>\n",
              "      <td>-0.001182</td>\n",
              "      <td>0.007834</td>\n",
              "      <td>0.0</td>\n",
              "      <td>0.0</td>\n",
              "      <td>0.0</td>\n",
              "      <td>7986.291974</td>\n",
              "      <td>0.433032</td>\n",
              "      <td>0.432098</td>\n",
              "      <td>0.235357</td>\n",
              "    </tr>\n",
              "  </tbody>\n",
              "</table>\n",
              "<p>3 rows × 91 columns</p>\n",
              "</div>\n",
              "      <button class=\"colab-df-convert\" onclick=\"convertToInteractive('df-d3461557-80b2-49d1-be63-829ed9b80c99')\"\n",
              "              title=\"Convert this dataframe to an interactive table.\"\n",
              "              style=\"display:none;\">\n",
              "        \n",
              "  <svg xmlns=\"http://www.w3.org/2000/svg\" height=\"24px\"viewBox=\"0 0 24 24\"\n",
              "       width=\"24px\">\n",
              "    <path d=\"M0 0h24v24H0V0z\" fill=\"none\"/>\n",
              "    <path d=\"M18.56 5.44l.94 2.06.94-2.06 2.06-.94-2.06-.94-.94-2.06-.94 2.06-2.06.94zm-11 1L8.5 8.5l.94-2.06 2.06-.94-2.06-.94L8.5 2.5l-.94 2.06-2.06.94zm10 10l.94 2.06.94-2.06 2.06-.94-2.06-.94-.94-2.06-.94 2.06-2.06.94z\"/><path d=\"M17.41 7.96l-1.37-1.37c-.4-.4-.92-.59-1.43-.59-.52 0-1.04.2-1.43.59L10.3 9.45l-7.72 7.72c-.78.78-.78 2.05 0 2.83L4 21.41c.39.39.9.59 1.41.59.51 0 1.02-.2 1.41-.59l7.78-7.78 2.81-2.81c.8-.78.8-2.07 0-2.86zM5.41 20L4 18.59l7.72-7.72 1.47 1.35L5.41 20z\"/>\n",
              "  </svg>\n",
              "      </button>\n",
              "      \n",
              "  <style>\n",
              "    .colab-df-container {\n",
              "      display:flex;\n",
              "      flex-wrap:wrap;\n",
              "      gap: 12px;\n",
              "    }\n",
              "\n",
              "    .colab-df-convert {\n",
              "      background-color: #E8F0FE;\n",
              "      border: none;\n",
              "      border-radius: 50%;\n",
              "      cursor: pointer;\n",
              "      display: none;\n",
              "      fill: #1967D2;\n",
              "      height: 32px;\n",
              "      padding: 0 0 0 0;\n",
              "      width: 32px;\n",
              "    }\n",
              "\n",
              "    .colab-df-convert:hover {\n",
              "      background-color: #E2EBFA;\n",
              "      box-shadow: 0px 1px 2px rgba(60, 64, 67, 0.3), 0px 1px 3px 1px rgba(60, 64, 67, 0.15);\n",
              "      fill: #174EA6;\n",
              "    }\n",
              "\n",
              "    [theme=dark] .colab-df-convert {\n",
              "      background-color: #3B4455;\n",
              "      fill: #D2E3FC;\n",
              "    }\n",
              "\n",
              "    [theme=dark] .colab-df-convert:hover {\n",
              "      background-color: #434B5C;\n",
              "      box-shadow: 0px 1px 3px 1px rgba(0, 0, 0, 0.15);\n",
              "      filter: drop-shadow(0px 1px 2px rgba(0, 0, 0, 0.3));\n",
              "      fill: #FFFFFF;\n",
              "    }\n",
              "  </style>\n",
              "\n",
              "      <script>\n",
              "        const buttonEl =\n",
              "          document.querySelector('#df-d3461557-80b2-49d1-be63-829ed9b80c99 button.colab-df-convert');\n",
              "        buttonEl.style.display =\n",
              "          google.colab.kernel.accessAllowed ? 'block' : 'none';\n",
              "\n",
              "        async function convertToInteractive(key) {\n",
              "          const element = document.querySelector('#df-d3461557-80b2-49d1-be63-829ed9b80c99');\n",
              "          const dataTable =\n",
              "            await google.colab.kernel.invokeFunction('convertToInteractive',\n",
              "                                                     [key], {});\n",
              "          if (!dataTable) return;\n",
              "\n",
              "          const docLinkHtml = 'Like what you see? Visit the ' +\n",
              "            '<a target=\"_blank\" href=https://colab.research.google.com/notebooks/data_table.ipynb>data table notebook</a>'\n",
              "            + ' to learn more about interactive tables.';\n",
              "          element.innerHTML = '';\n",
              "          dataTable['output_type'] = 'display_data';\n",
              "          await google.colab.output.renderOutput(dataTable, element);\n",
              "          const docLink = document.createElement('div');\n",
              "          docLink.innerHTML = docLinkHtml;\n",
              "          element.appendChild(docLink);\n",
              "        }\n",
              "      </script>\n",
              "    </div>\n",
              "  </div>\n",
              "  "
            ],
            "text/plain": [
              "                                  Open         High          Low        Close  \\\n",
              "Date                                                                            \n",
              "2020-05-01 00:00:00+00:00  7919.458008  8011.712891  7919.458008  7981.766113   \n",
              "2020-05-01 01:00:00+00:00  7986.103027  8026.972168  7965.565430  7966.056152   \n",
              "2020-05-01 02:00:00+00:00  7966.387207  8002.230469  7961.483887  8000.551758   \n",
              "\n",
              "                           Volume  volume_adi  volume_obv  volume_cmf  \\\n",
              "Date                                                                    \n",
              "2020-05-01 00:00:00+00:00       0         0.0           0         0.0   \n",
              "2020-05-01 01:00:00+00:00       0         0.0           0         0.0   \n",
              "2020-05-01 02:00:00+00:00       0         0.0           0         0.0   \n",
              "\n",
              "                           volume_fi  volume_em  ...  momentum_ppo  \\\n",
              "Date                                             ...                 \n",
              "2020-05-01 00:00:00+00:00        0.0        0.0  ...      0.000000   \n",
              "2020-05-01 01:00:00+00:00       -0.0        0.0  ...     -0.015703   \n",
              "2020-05-01 02:00:00+00:00       -0.0        0.0  ...      0.006652   \n",
              "\n",
              "                           momentum_ppo_signal  momentum_ppo_hist  \\\n",
              "Date                                                                \n",
              "2020-05-01 00:00:00+00:00             0.000000           0.000000   \n",
              "2020-05-01 01:00:00+00:00            -0.003141          -0.012563   \n",
              "2020-05-01 02:00:00+00:00            -0.001182           0.007834   \n",
              "\n",
              "                           momentum_pvo  momentum_pvo_signal  \\\n",
              "Date                                                           \n",
              "2020-05-01 00:00:00+00:00           0.0                  0.0   \n",
              "2020-05-01 01:00:00+00:00           0.0                  0.0   \n",
              "2020-05-01 02:00:00+00:00           0.0                  0.0   \n",
              "\n",
              "                           momentum_pvo_hist  momentum_kama  others_dr  \\\n",
              "Date                                                                     \n",
              "2020-05-01 00:00:00+00:00                0.0    7981.766113 -72.942054   \n",
              "2020-05-01 01:00:00+00:00                0.0    7974.766637  -0.196823   \n",
              "2020-05-01 02:00:00+00:00                0.0    7986.291974   0.433032   \n",
              "\n",
              "                           others_dlr  others_cr  \n",
              "Date                                              \n",
              "2020-05-01 00:00:00+00:00    0.000000   0.000000  \n",
              "2020-05-01 01:00:00+00:00   -0.197017  -0.196823  \n",
              "2020-05-01 02:00:00+00:00    0.432098   0.235357  \n",
              "\n",
              "[3 rows x 91 columns]"
            ]
          },
          "execution_count": 13,
          "metadata": {},
          "output_type": "execute_result"
        }
      ],
      "source": [
        "df.head(3)"
      ]
    },
    {
      "cell_type": "code",
      "execution_count": null,
      "metadata": {
        "colab": {
          "base_uri": "https://localhost:8080/",
          "height": 496
        },
        "id": "i9AiBpqEEW7s",
        "outputId": "bd6ff8c9-cfac-415a-ffcb-31fab49af0b9"
      },
      "outputs": [
        {
          "data": {
            "image/png": "[encoded data removed]",
            "text/plain": [
              "<Figure size 2000x400 with 1 Axes>"
            ]
          },
          "metadata": {},
          "output_type": "display_data"
        }
      ],
      "source": [
        "lockback_period = 2160\n",
        "data_to_plot = df.copy().tail(lockback_period)\n",
        "plot_time_series(data_to_plot)"
      ]
    },
    {
      "cell_type": "markdown",
      "metadata": {
        "id": "VPX3AqwMEW7s"
      },
      "source": [
        "# Data preparation"
      ]
    },
    {
      "cell_type": "markdown",
      "metadata": {
        "id": "gWPygW9mEW7t"
      },
      "source": [
        "## Normalizing close price data"
      ]
    },
    {
      "cell_type": "code",
      "execution_count": null,
      "metadata": {
        "id": "fEX8HTO1dC4n"
      },
      "outputs": [],
      "source": [
        "scaler = MinMaxScaler(feature_range=(-1, 1))\n",
        "df['Close'] = scaler.fit_transform(df['Close'].values.reshape(-1,1))"
      ]
    },
    {
      "cell_type": "code",
      "execution_count": null,
      "metadata": {
        "id": "d0-K24MmEW7u"
      },
      "outputs": [],
      "source": [
        "df_scaler = MinMaxScaler(feature_range=(-1, 1))\n",
        "arr_scaled = df_scaler.fit_transform(df)\n",
        "\n",
        "df_scaled = pd.DataFrame(arr_scaled, columns=df.columns,index=df.index)\n",
        "df_scaled['Close'] = df['Close'].values"
      ]
    },
    {
      "cell_type": "code",
      "execution_count": null,
      "metadata": {
        "colab": {
          "base_uri": "https://localhost:8080/",
          "height": 418
        },
        "id": "ICeoM8HtAoAf",
        "outputId": "a33f7a5d-558f-4786-a509-12a81c827fd5"
      },
      "outputs": [
        {
          "data": {
            "text/html": [
              "\n",
              "  <div id=\"df-03e14b12-3814-454a-9b73-cd3f1973de8e\">\n",
              "    <div class=\"colab-df-container\">\n",
              "      <div>\n",
              "<style scoped>\n",
              "    .dataframe tbody tr th:only-of-type {\n",
              "        vertical-align: middle;\n",
              "    }\n",
              "\n",
              "    .dataframe tbody tr th {\n",
              "        vertical-align: top;\n",
              "    }\n",
              "\n",
              "    .dataframe thead th {\n",
              "        text-align: right;\n",
              "    }\n",
              "</style>\n",
              "<table border=\"1\" class=\"dataframe\">\n",
              "  <thead>\n",
              "    <tr style=\"text-align: right;\">\n",
              "      <th></th>\n",
              "      <th>Open</th>\n",
              "      <th>High</th>\n",
              "      <th>Low</th>\n",
              "      <th>Close</th>\n",
              "      <th>Volume</th>\n",
              "      <th>volume_adi</th>\n",
              "      <th>volume_obv</th>\n",
              "      <th>volume_cmf</th>\n",
              "      <th>volume_fi</th>\n",
              "      <th>volume_em</th>\n",
              "      <th>...</th>\n",
              "      <th>momentum_ppo</th>\n",
              "      <th>momentum_ppo_signal</th>\n",
              "      <th>momentum_ppo_hist</th>\n",
              "      <th>momentum_pvo</th>\n",
              "      <th>momentum_pvo_signal</th>\n",
              "      <th>momentum_pvo_hist</th>\n",
              "      <th>momentum_kama</th>\n",
              "      <th>others_dr</th>\n",
              "      <th>others_dlr</th>\n",
              "      <th>others_cr</th>\n",
              "    </tr>\n",
              "    <tr>\n",
              "      <th>Date</th>\n",
              "      <th></th>\n",
              "      <th></th>\n",
              "      <th></th>\n",
              "      <th></th>\n",
              "      <th></th>\n",
              "      <th></th>\n",
              "      <th></th>\n",
              "      <th></th>\n",
              "      <th></th>\n",
              "      <th></th>\n",
              "      <th></th>\n",
              "      <th></th>\n",
              "      <th></th>\n",
              "      <th></th>\n",
              "      <th></th>\n",
              "      <th></th>\n",
              "      <th></th>\n",
              "      <th></th>\n",
              "      <th></th>\n",
              "      <th></th>\n",
              "      <th></th>\n",
              "    </tr>\n",
              "  </thead>\n",
              "  <tbody>\n",
              "    <tr>\n",
              "      <th>2022-03-30 19:00:00+00:00</th>\n",
              "      <td>0.337632</td>\n",
              "      <td>0.334091</td>\n",
              "      <td>0.328454</td>\n",
              "      <td>0.328253</td>\n",
              "      <td>-1.0</td>\n",
              "      <td>-0.194149</td>\n",
              "      <td>-0.655751</td>\n",
              "      <td>0.114038</td>\n",
              "      <td>-0.914895</td>\n",
              "      <td>-0.671837</td>\n",
              "      <td>...</td>\n",
              "      <td>-0.017918</td>\n",
              "      <td>-0.048404</td>\n",
              "      <td>0.126770</td>\n",
              "      <td>-0.128626</td>\n",
              "      <td>-0.239167</td>\n",
              "      <td>-0.474107</td>\n",
              "      <td>0.363838</td>\n",
              "      <td>0.214737</td>\n",
              "      <td>-0.014671</td>\n",
              "      <td>0.328253</td>\n",
              "    </tr>\n",
              "    <tr>\n",
              "      <th>2022-03-30 20:00:00+00:00</th>\n",
              "      <td>0.329012</td>\n",
              "      <td>0.330506</td>\n",
              "      <td>0.332318</td>\n",
              "      <td>0.333340</td>\n",
              "      <td>-1.0</td>\n",
              "      <td>-0.194148</td>\n",
              "      <td>-0.655751</td>\n",
              "      <td>0.164263</td>\n",
              "      <td>-0.914895</td>\n",
              "      <td>-0.670234</td>\n",
              "      <td>...</td>\n",
              "      <td>-0.017549</td>\n",
              "      <td>-0.048310</td>\n",
              "      <td>0.127514</td>\n",
              "      <td>-0.107011</td>\n",
              "      <td>-0.212799</td>\n",
              "      <td>-0.479088</td>\n",
              "      <td>0.363616</td>\n",
              "      <td>0.228905</td>\n",
              "      <td>0.007574</td>\n",
              "      <td>0.333340</td>\n",
              "    </tr>\n",
              "    <tr>\n",
              "      <th>2022-03-30 21:00:00+00:00</th>\n",
              "      <td>0.333956</td>\n",
              "      <td>0.332160</td>\n",
              "      <td>0.329189</td>\n",
              "      <td>0.324935</td>\n",
              "      <td>-1.0</td>\n",
              "      <td>-0.194148</td>\n",
              "      <td>-0.655751</td>\n",
              "      <td>0.435178</td>\n",
              "      <td>-0.914895</td>\n",
              "      <td>-0.670756</td>\n",
              "      <td>...</td>\n",
              "      <td>-0.025906</td>\n",
              "      <td>-0.050066</td>\n",
              "      <td>0.109851</td>\n",
              "      <td>-0.171120</td>\n",
              "      <td>-0.204530</td>\n",
              "      <td>-0.555057</td>\n",
              "      <td>0.362902</td>\n",
              "      <td>0.215002</td>\n",
              "      <td>-0.014252</td>\n",
              "      <td>0.324935</td>\n",
              "    </tr>\n",
              "    <tr>\n",
              "      <th>2022-03-30 22:00:00+00:00</th>\n",
              "      <td>0.325808</td>\n",
              "      <td>0.324650</td>\n",
              "      <td>0.326962</td>\n",
              "      <td>0.327486</td>\n",
              "      <td>-1.0</td>\n",
              "      <td>-0.194148</td>\n",
              "      <td>-0.655751</td>\n",
              "      <td>0.298307</td>\n",
              "      <td>-0.914895</td>\n",
              "      <td>-0.670756</td>\n",
              "      <td>...</td>\n",
              "      <td>-0.028776</td>\n",
              "      <td>-0.052099</td>\n",
              "      <td>0.107203</td>\n",
              "      <td>-0.242689</td>\n",
              "      <td>-0.212233</td>\n",
              "      <td>-0.622097</td>\n",
              "      <td>0.362295</td>\n",
              "      <td>0.226293</td>\n",
              "      <td>0.003487</td>\n",
              "      <td>0.327486</td>\n",
              "    </tr>\n",
              "    <tr>\n",
              "      <th>2022-03-30 23:00:00+00:00</th>\n",
              "      <td>0.328176</td>\n",
              "      <td>0.328971</td>\n",
              "      <td>0.331724</td>\n",
              "      <td>0.328883</td>\n",
              "      <td>-1.0</td>\n",
              "      <td>-0.194149</td>\n",
              "      <td>-0.655751</td>\n",
              "      <td>0.155322</td>\n",
              "      <td>-0.914895</td>\n",
              "      <td>-0.670035</td>\n",
              "      <td>...</td>\n",
              "      <td>-0.028594</td>\n",
              "      <td>-0.053686</td>\n",
              "      <td>0.111467</td>\n",
              "      <td>-0.204742</td>\n",
              "      <td>-0.210804</td>\n",
              "      <td>-0.583765</td>\n",
              "      <td>0.362151</td>\n",
              "      <td>0.225096</td>\n",
              "      <td>0.001612</td>\n",
              "      <td>0.328883</td>\n",
              "    </tr>\n",
              "  </tbody>\n",
              "</table>\n",
              "<p>5 rows × 91 columns</p>\n",
              "</div>\n",
              "      <button class=\"colab-df-convert\" onclick=\"convertToInteractive('df-03e14b12-3814-454a-9b73-cd3f1973de8e')\"\n",
              "              title=\"Convert this dataframe to an interactive table.\"\n",
              "              style=\"display:none;\">\n",
              "        \n",
              "  <svg xmlns=\"http://www.w3.org/2000/svg\" height=\"24px\"viewBox=\"0 0 24 24\"\n",
              "       width=\"24px\">\n",
              "    <path d=\"M0 0h24v24H0V0z\" fill=\"none\"/>\n",
              "    <path d=\"M18.56 5.44l.94 2.06.94-2.06 2.06-.94-2.06-.94-.94-2.06-.94 2.06-2.06.94zm-11 1L8.5 8.5l.94-2.06 2.06-.94-2.06-.94L8.5 2.5l-.94 2.06-2.06.94zm10 10l.94 2.06.94-2.06 2.06-.94-2.06-.94-.94-2.06-.94 2.06-2.06.94z\"/><path d=\"M17.41 7.96l-1.37-1.37c-.4-.4-.92-.59-1.43-.59-.52 0-1.04.2-1.43.59L10.3 9.45l-7.72 7.72c-.78.78-.78 2.05 0 2.83L4 21.41c.39.39.9.59 1.41.59.51 0 1.02-.2 1.41-.59l7.78-7.78 2.81-2.81c.8-.78.8-2.07 0-2.86zM5.41 20L4 18.59l7.72-7.72 1.47 1.35L5.41 20z\"/>\n",
              "  </svg>\n",
              "      </button>\n",
              "      \n",
              "  <style>\n",
              "    .colab-df-container {\n",
              "      display:flex;\n",
              "      flex-wrap:wrap;\n",
              "      gap: 12px;\n",
              "    }\n",
              "\n",
              "    .colab-df-convert {\n",
              "      background-color: #E8F0FE;\n",
              "      border: none;\n",
              "      border-radius: 50%;\n",
              "      cursor: pointer;\n",
              "      display: none;\n",
              "      fill: #1967D2;\n",
              "      height: 32px;\n",
              "      padding: 0 0 0 0;\n",
              "      width: 32px;\n",
              "    }\n",
              "\n",
              "    .colab-df-convert:hover {\n",
              "      background-color: #E2EBFA;\n",
              "      box-shadow: 0px 1px 2px rgba(60, 64, 67, 0.3), 0px 1px 3px 1px rgba(60, 64, 67, 0.15);\n",
              "      fill: #174EA6;\n",
              "    }\n",
              "\n",
              "    [theme=dark] .colab-df-convert {\n",
              "      background-color: #3B4455;\n",
              "      fill: #D2E3FC;\n",
              "    }\n",
              "\n",
              "    [theme=dark] .colab-df-convert:hover {\n",
              "      background-color: #434B5C;\n",
              "      box-shadow: 0px 1px 3px 1px rgba(0, 0, 0, 0.15);\n",
              "      filter: drop-shadow(0px 1px 2px rgba(0, 0, 0, 0.3));\n",
              "      fill: #FFFFFF;\n",
              "    }\n",
              "  </style>\n",
              "\n",
              "      <script>\n",
              "        const buttonEl =\n",
              "          document.querySelector('#df-03e14b12-3814-454a-9b73-cd3f1973de8e button.colab-df-convert');\n",
              "        buttonEl.style.display =\n",
              "          google.colab.kernel.accessAllowed ? 'block' : 'none';\n",
              "\n",
              "        async function convertToInteractive(key) {\n",
              "          const element = document.querySelector('#df-03e14b12-3814-454a-9b73-cd3f1973de8e');\n",
              "          const dataTable =\n",
              "            await google.colab.kernel.invokeFunction('convertToInteractive',\n",
              "                                                     [key], {});\n",
              "          if (!dataTable) return;\n",
              "\n",
              "          const docLinkHtml = 'Like what you see? Visit the ' +\n",
              "            '<a target=\"_blank\" href=https://colab.research.google.com/notebooks/data_table.ipynb>data table notebook</a>'\n",
              "            + ' to learn more about interactive tables.';\n",
              "          element.innerHTML = '';\n",
              "          dataTable['output_type'] = 'display_data';\n",
              "          await google.colab.output.renderOutput(dataTable, element);\n",
              "          const docLink = document.createElement('div');\n",
              "          docLink.innerHTML = docLinkHtml;\n",
              "          element.appendChild(docLink);\n",
              "        }\n",
              "      </script>\n",
              "    </div>\n",
              "  </div>\n",
              "  "
            ],
            "text/plain": [
              "                               Open      High       Low     Close  Volume  \\\n",
              "Date                                                                        \n",
              "2022-03-30 19:00:00+00:00  0.337632  0.334091  0.328454  0.328253    -1.0   \n",
              "2022-03-30 20:00:00+00:00  0.329012  0.330506  0.332318  0.333340    -1.0   \n",
              "2022-03-30 21:00:00+00:00  0.333956  0.332160  0.329189  0.324935    -1.0   \n",
              "2022-03-30 22:00:00+00:00  0.325808  0.324650  0.326962  0.327486    -1.0   \n",
              "2022-03-30 23:00:00+00:00  0.328176  0.328971  0.331724  0.328883    -1.0   \n",
              "\n",
              "                           volume_adi  volume_obv  volume_cmf  volume_fi  \\\n",
              "Date                                                                       \n",
              "2022-03-30 19:00:00+00:00   -0.194149   -0.655751    0.114038  -0.914895   \n",
              "2022-03-30 20:00:00+00:00   -0.194148   -0.655751    0.164263  -0.914895   \n",
              "2022-03-30 21:00:00+00:00   -0.194148   -0.655751    0.435178  -0.914895   \n",
              "2022-03-30 22:00:00+00:00   -0.194148   -0.655751    0.298307  -0.914895   \n",
              "2022-03-30 23:00:00+00:00   -0.194149   -0.655751    0.155322  -0.914895   \n",
              "\n",
              "                           volume_em  ...  momentum_ppo  momentum_ppo_signal  \\\n",
              "Date                                  ...                                      \n",
              "2022-03-30 19:00:00+00:00  -0.671837  ...     -0.017918            -0.048404   \n",
              "2022-03-30 20:00:00+00:00  -0.670234  ...     -0.017549            -0.048310   \n",
              "2022-03-30 21:00:00+00:00  -0.670756  ...     -0.025906            -0.050066   \n",
              "2022-03-30 22:00:00+00:00  -0.670756  ...     -0.028776            -0.052099   \n",
              "2022-03-30 23:00:00+00:00  -0.670035  ...     -0.028594            -0.053686   \n",
              "\n",
              "                           momentum_ppo_hist  momentum_pvo  \\\n",
              "Date                                                         \n",
              "2022-03-30 19:00:00+00:00           0.126770     -0.128626   \n",
              "2022-03-30 20:00:00+00:00           0.127514     -0.107011   \n",
              "2022-03-30 21:00:00+00:00           0.109851     -0.171120   \n",
              "2022-03-30 22:00:00+00:00           0.107203     -0.242689   \n",
              "2022-03-30 23:00:00+00:00           0.111467     -0.204742   \n",
              "\n",
              "                           momentum_pvo_signal  momentum_pvo_hist  \\\n",
              "Date                                                                \n",
              "2022-03-30 19:00:00+00:00            -0.239167          -0.474107   \n",
              "2022-03-30 20:00:00+00:00            -0.212799          -0.479088   \n",
              "2022-03-30 21:00:00+00:00            -0.204530          -0.555057   \n",
              "2022-03-30 22:00:00+00:00            -0.212233          -0.622097   \n",
              "2022-03-30 23:00:00+00:00            -0.210804          -0.583765   \n",
              "\n",
              "                           momentum_kama  others_dr  others_dlr  others_cr  \n",
              "Date                                                                        \n",
              "2022-03-30 19:00:00+00:00       0.363838   0.214737   -0.014671   0.328253  \n",
              "2022-03-30 20:00:00+00:00       0.363616   0.228905    0.007574   0.333340  \n",
              "2022-03-30 21:00:00+00:00       0.362902   0.215002   -0.014252   0.324935  \n",
              "2022-03-30 22:00:00+00:00       0.362295   0.226293    0.003487   0.327486  \n",
              "2022-03-30 23:00:00+00:00       0.362151   0.225096    0.001612   0.328883  \n",
              "\n",
              "[5 rows x 91 columns]"
            ]
          },
          "execution_count": 17,
          "metadata": {},
          "output_type": "execute_result"
        }
      ],
      "source": [
        "df_scaled.tail(5)"
      ]
    },
    {
      "cell_type": "markdown",
      "metadata": {
        "id": "XZzusxAYEW7u"
      },
      "source": [
        "##  Generating training and validation datasets"
      ]
    },
    {
      "cell_type": "code",
      "execution_count": null,
      "metadata": {
        "colab": {
          "base_uri": "https://localhost:8080/"
        },
        "id": "1qlJtnXgA_S8",
        "outputId": "ac633fcd-48c1-4f84-d774-5aefee56a0cb"
      },
      "outputs": [
        {
          "data": {
            "text/plain": [
              "112350"
            ]
          },
          "execution_count": 18,
          "metadata": {},
          "output_type": "execute_result"
        }
      ],
      "source": [
        "gc.collect()"
      ]
    },
    {
      "cell_type": "code",
      "execution_count": null,
      "metadata": {
        "id": "hiSIVttHP2Lh"
      },
      "outputs": [],
      "source": [
        "def make_windowed_dataset(data, window_size, horizon):\n",
        "    \"\"\"\n",
        "    Create a dataset of windowed data\n",
        "    \"\"\"\n",
        "    X = []\n",
        "    Y = []\n",
        "    \n",
        "    data_y = data[['Close']]\n",
        "    data_x = data.drop(columns=['Close'])\n",
        "    \n",
        "    for i in range(len(data) - window_size - horizon + 1):\n",
        "        x = data_x[i:i + window_size].values\n",
        "        y = data_y[i + window_size:i + window_size + horizon].values[-1]\n",
        "        X.append(x)\n",
        "        Y.append(y)\n",
        "        \n",
        "    return np.array(X), np.array(Y)"
      ]
    },
    {
      "cell_type": "code",
      "execution_count": null,
      "metadata": {
        "id": "_dY7ewyYP2JB"
      },
      "outputs": [],
      "source": [
        "features, labels = make_windowed_dataset(df_scaled, WINDOW_SIZE, HORIZON)"
      ]
    },
    {
      "cell_type": "code",
      "execution_count": null,
      "metadata": {
        "id": "CO3Fv4-fSUkJ"
      },
      "outputs": [],
      "source": [
        "labels= labels.reshape(-1)"
      ]
    },
    {
      "cell_type": "code",
      "execution_count": null,
      "metadata": {
        "colab": {
          "base_uri": "https://localhost:8080/"
        },
        "id": "plrYxYb4P2Gi",
        "outputId": "d3302d9d-c7c1-4239-a43d-8f494d263826"
      },
      "outputs": [
        {
          "data": {
            "text/plain": [
              "((96, 90), ())"
            ]
          },
          "execution_count": 22,
          "metadata": {},
          "output_type": "execute_result"
        }
      ],
      "source": [
        "features[-1].shape, labels[-1].shape"
      ]
    },
    {
      "cell_type": "code",
      "execution_count": null,
      "metadata": {
        "id": "qF4jDVPpP2Di"
      },
      "outputs": [],
      "source": [
        "x_train, x_test, y_train, y_test = train_test_split(features, labels, test_size=TEST_SIZE, shuffle=False, random_state=SEED)"
      ]
    },
    {
      "cell_type": "code",
      "execution_count": null,
      "metadata": {
        "colab": {
          "base_uri": "https://localhost:8080/"
        },
        "id": "knj1h5iAP_nS",
        "outputId": "8a80e539-c964-458f-8f65-f7152f31e3f8"
      },
      "outputs": [
        {
          "data": {
            "text/plain": [
              "((13036, 96, 90), (3260, 96, 90), (13036,), (3260,))"
            ]
          },
          "execution_count": 24,
          "metadata": {},
          "output_type": "execute_result"
        }
      ],
      "source": [
        "x_train.shape, x_test.shape, y_train.shape, y_test.shape"
      ]
    },
    {
      "cell_type": "code",
      "execution_count": null,
      "metadata": {
        "colab": {
          "base_uri": "https://localhost:8080/"
        },
        "id": "zNnefgHyP_fv",
        "outputId": "6dbe242f-477d-446e-ff7d-5eb0dbaa3370"
      },
      "outputs": [
        {
          "data": {
            "text/plain": [
              "(array([[ 0.32580827,  0.32465014,  0.32696162, -1.        , -0.19414846,\n",
              "         -0.65575117,  0.29830689, -0.91489501, -0.67075647, -0.54637659,\n",
              "         -0.83543918,  0.4427788 , -0.06177847, -0.99913399,  0.36754008,\n",
              "          0.33997115,  0.38349296, -0.86968715, -0.2907535 , -1.        ,\n",
              "         -1.        ,  0.35442946,  0.34400333,  0.3548569 , -0.87209996,\n",
              "         -0.38288806, -1.        , -1.        ,  0.38409471,  0.34710467,\n",
              "          0.36530266, -0.93117341, -0.68255493, -0.83904738, -0.8233496 ,\n",
              "          0.07693428,  0.05579513,  0.17266347,  0.35531511,  0.37098296,\n",
              "          0.35618686,  0.37124466, -0.0135043 ,  0.10226284, -0.17038469,\n",
              "          0.98229736,  0.61985918, -0.24967491,  0.61039442,  0.6252603 ,\n",
              "         -0.49972639,  0.35924916,  0.3665627 ,  0.36390616,  0.39268701,\n",
              "         -0.67837514, -0.42079588, -0.54681422, -0.19962876, -0.08921963,\n",
              "          0.38772947,  0.36733476, -0.91666667,  0.91666667, -0.91666667,\n",
              "          0.43911905,  0.43139116, -1.        , -1.        , -0.14737584,\n",
              "         -0.27915324, -0.25240962, -0.20807659,  0.00203066,  0.1749334 ,\n",
              "         -0.64919148, -0.62102319, -0.64919148,  0.16100121, -0.2563866 ,\n",
              "         -0.02877551, -0.05209906,  0.107203  , -0.2426894 , -0.21223301,\n",
              "         -0.62209651,  0.36229517,  0.22629301,  0.00348677,  0.32748608]]),\n",
              " 0.32888294585894884)"
            ]
          },
          "execution_count": 25,
          "metadata": {},
          "output_type": "execute_result"
        }
      ],
      "source": [
        "x_test[-1][WINDOW_SIZE-1:], y_test[-1]"
      ]
    },
    {
      "cell_type": "code",
      "execution_count": null,
      "metadata": {
        "colab": {
          "base_uri": "https://localhost:8080/",
          "height": 418
        },
        "id": "5pG-OoqCP_Xa",
        "outputId": "2d0adce4-99de-4089-c84c-ca97aca71f3c"
      },
      "outputs": [
        {
          "data": {
            "text/html": [
              "\n",
              "  <div id=\"df-a5d5a308-701d-44f2-8632-47141d6241c5\">\n",
              "    <div class=\"colab-df-container\">\n",
              "      <div>\n",
              "<style scoped>\n",
              "    .dataframe tbody tr th:only-of-type {\n",
              "        vertical-align: middle;\n",
              "    }\n",
              "\n",
              "    .dataframe tbody tr th {\n",
              "        vertical-align: top;\n",
              "    }\n",
              "\n",
              "    .dataframe thead th {\n",
              "        text-align: right;\n",
              "    }\n",
              "</style>\n",
              "<table border=\"1\" class=\"dataframe\">\n",
              "  <thead>\n",
              "    <tr style=\"text-align: right;\">\n",
              "      <th></th>\n",
              "      <th>Open</th>\n",
              "      <th>High</th>\n",
              "      <th>Low</th>\n",
              "      <th>Close</th>\n",
              "      <th>Volume</th>\n",
              "      <th>volume_adi</th>\n",
              "      <th>volume_obv</th>\n",
              "      <th>volume_cmf</th>\n",
              "      <th>volume_fi</th>\n",
              "      <th>volume_em</th>\n",
              "      <th>...</th>\n",
              "      <th>momentum_ppo</th>\n",
              "      <th>momentum_ppo_signal</th>\n",
              "      <th>momentum_ppo_hist</th>\n",
              "      <th>momentum_pvo</th>\n",
              "      <th>momentum_pvo_signal</th>\n",
              "      <th>momentum_pvo_hist</th>\n",
              "      <th>momentum_kama</th>\n",
              "      <th>others_dr</th>\n",
              "      <th>others_dlr</th>\n",
              "      <th>others_cr</th>\n",
              "    </tr>\n",
              "    <tr>\n",
              "      <th>Date</th>\n",
              "      <th></th>\n",
              "      <th></th>\n",
              "      <th></th>\n",
              "      <th></th>\n",
              "      <th></th>\n",
              "      <th></th>\n",
              "      <th></th>\n",
              "      <th></th>\n",
              "      <th></th>\n",
              "      <th></th>\n",
              "      <th></th>\n",
              "      <th></th>\n",
              "      <th></th>\n",
              "      <th></th>\n",
              "      <th></th>\n",
              "      <th></th>\n",
              "      <th></th>\n",
              "      <th></th>\n",
              "      <th></th>\n",
              "      <th></th>\n",
              "      <th></th>\n",
              "    </tr>\n",
              "  </thead>\n",
              "  <tbody>\n",
              "    <tr>\n",
              "      <th>2022-03-30 19:00:00+00:00</th>\n",
              "      <td>0.337632</td>\n",
              "      <td>0.334091</td>\n",
              "      <td>0.328454</td>\n",
              "      <td>0.328253</td>\n",
              "      <td>-1.0</td>\n",
              "      <td>-0.194149</td>\n",
              "      <td>-0.655751</td>\n",
              "      <td>0.114038</td>\n",
              "      <td>-0.914895</td>\n",
              "      <td>-0.671837</td>\n",
              "      <td>...</td>\n",
              "      <td>-0.017918</td>\n",
              "      <td>-0.048404</td>\n",
              "      <td>0.126770</td>\n",
              "      <td>-0.128626</td>\n",
              "      <td>-0.239167</td>\n",
              "      <td>-0.474107</td>\n",
              "      <td>0.363838</td>\n",
              "      <td>0.214737</td>\n",
              "      <td>-0.014671</td>\n",
              "      <td>0.328253</td>\n",
              "    </tr>\n",
              "    <tr>\n",
              "      <th>2022-03-30 20:00:00+00:00</th>\n",
              "      <td>0.329012</td>\n",
              "      <td>0.330506</td>\n",
              "      <td>0.332318</td>\n",
              "      <td>0.333340</td>\n",
              "      <td>-1.0</td>\n",
              "      <td>-0.194148</td>\n",
              "      <td>-0.655751</td>\n",
              "      <td>0.164263</td>\n",
              "      <td>-0.914895</td>\n",
              "      <td>-0.670234</td>\n",
              "      <td>...</td>\n",
              "      <td>-0.017549</td>\n",
              "      <td>-0.048310</td>\n",
              "      <td>0.127514</td>\n",
              "      <td>-0.107011</td>\n",
              "      <td>-0.212799</td>\n",
              "      <td>-0.479088</td>\n",
              "      <td>0.363616</td>\n",
              "      <td>0.228905</td>\n",
              "      <td>0.007574</td>\n",
              "      <td>0.333340</td>\n",
              "    </tr>\n",
              "    <tr>\n",
              "      <th>2022-03-30 21:00:00+00:00</th>\n",
              "      <td>0.333956</td>\n",
              "      <td>0.332160</td>\n",
              "      <td>0.329189</td>\n",
              "      <td>0.324935</td>\n",
              "      <td>-1.0</td>\n",
              "      <td>-0.194148</td>\n",
              "      <td>-0.655751</td>\n",
              "      <td>0.435178</td>\n",
              "      <td>-0.914895</td>\n",
              "      <td>-0.670756</td>\n",
              "      <td>...</td>\n",
              "      <td>-0.025906</td>\n",
              "      <td>-0.050066</td>\n",
              "      <td>0.109851</td>\n",
              "      <td>-0.171120</td>\n",
              "      <td>-0.204530</td>\n",
              "      <td>-0.555057</td>\n",
              "      <td>0.362902</td>\n",
              "      <td>0.215002</td>\n",
              "      <td>-0.014252</td>\n",
              "      <td>0.324935</td>\n",
              "    </tr>\n",
              "    <tr>\n",
              "      <th>2022-03-30 22:00:00+00:00</th>\n",
              "      <td>0.325808</td>\n",
              "      <td>0.324650</td>\n",
              "      <td>0.326962</td>\n",
              "      <td>0.327486</td>\n",
              "      <td>-1.0</td>\n",
              "      <td>-0.194148</td>\n",
              "      <td>-0.655751</td>\n",
              "      <td>0.298307</td>\n",
              "      <td>-0.914895</td>\n",
              "      <td>-0.670756</td>\n",
              "      <td>...</td>\n",
              "      <td>-0.028776</td>\n",
              "      <td>-0.052099</td>\n",
              "      <td>0.107203</td>\n",
              "      <td>-0.242689</td>\n",
              "      <td>-0.212233</td>\n",
              "      <td>-0.622097</td>\n",
              "      <td>0.362295</td>\n",
              "      <td>0.226293</td>\n",
              "      <td>0.003487</td>\n",
              "      <td>0.327486</td>\n",
              "    </tr>\n",
              "    <tr>\n",
              "      <th>2022-03-30 23:00:00+00:00</th>\n",
              "      <td>0.328176</td>\n",
              "      <td>0.328971</td>\n",
              "      <td>0.331724</td>\n",
              "      <td>0.328883</td>\n",
              "      <td>-1.0</td>\n",
              "      <td>-0.194149</td>\n",
              "      <td>-0.655751</td>\n",
              "      <td>0.155322</td>\n",
              "      <td>-0.914895</td>\n",
              "      <td>-0.670035</td>\n",
              "      <td>...</td>\n",
              "      <td>-0.028594</td>\n",
              "      <td>-0.053686</td>\n",
              "      <td>0.111467</td>\n",
              "      <td>-0.204742</td>\n",
              "      <td>-0.210804</td>\n",
              "      <td>-0.583765</td>\n",
              "      <td>0.362151</td>\n",
              "      <td>0.225096</td>\n",
              "      <td>0.001612</td>\n",
              "      <td>0.328883</td>\n",
              "    </tr>\n",
              "  </tbody>\n",
              "</table>\n",
              "<p>5 rows × 91 columns</p>\n",
              "</div>\n",
              "      <button class=\"colab-df-convert\" onclick=\"convertToInteractive('df-a5d5a308-701d-44f2-8632-47141d6241c5')\"\n",
              "              title=\"Convert this dataframe to an interactive table.\"\n",
              "              style=\"display:none;\">\n",
              "        \n",
              "  <svg xmlns=\"http://www.w3.org/2000/svg\" height=\"24px\"viewBox=\"0 0 24 24\"\n",
              "       width=\"24px\">\n",
              "    <path d=\"M0 0h24v24H0V0z\" fill=\"none\"/>\n",
              "    <path d=\"M18.56 5.44l.94 2.06.94-2.06 2.06-.94-2.06-.94-.94-2.06-.94 2.06-2.06.94zm-11 1L8.5 8.5l.94-2.06 2.06-.94-2.06-.94L8.5 2.5l-.94 2.06-2.06.94zm10 10l.94 2.06.94-2.06 2.06-.94-2.06-.94-.94-2.06-.94 2.06-2.06.94z\"/><path d=\"M17.41 7.96l-1.37-1.37c-.4-.4-.92-.59-1.43-.59-.52 0-1.04.2-1.43.59L10.3 9.45l-7.72 7.72c-.78.78-.78 2.05 0 2.83L4 21.41c.39.39.9.59 1.41.59.51 0 1.02-.2 1.41-.59l7.78-7.78 2.81-2.81c.8-.78.8-2.07 0-2.86zM5.41 20L4 18.59l7.72-7.72 1.47 1.35L5.41 20z\"/>\n",
              "  </svg>\n",
              "      </button>\n",
              "      \n",
              "  <style>\n",
              "    .colab-df-container {\n",
              "      display:flex;\n",
              "      flex-wrap:wrap;\n",
              "      gap: 12px;\n",
              "    }\n",
              "\n",
              "    .colab-df-convert {\n",
              "      background-color: #E8F0FE;\n",
              "      border: none;\n",
              "      border-radius: 50%;\n",
              "      cursor: pointer;\n",
              "      display: none;\n",
              "      fill: #1967D2;\n",
              "      height: 32px;\n",
              "      padding: 0 0 0 0;\n",
              "      width: 32px;\n",
              "    }\n",
              "\n",
              "    .colab-df-convert:hover {\n",
              "      background-color: #E2EBFA;\n",
              "      box-shadow: 0px 1px 2px rgba(60, 64, 67, 0.3), 0px 1px 3px 1px rgba(60, 64, 67, 0.15);\n",
              "      fill: #174EA6;\n",
              "    }\n",
              "\n",
              "    [theme=dark] .colab-df-convert {\n",
              "      background-color: #3B4455;\n",
              "      fill: #D2E3FC;\n",
              "    }\n",
              "\n",
              "    [theme=dark] .colab-df-convert:hover {\n",
              "      background-color: #434B5C;\n",
              "      box-shadow: 0px 1px 3px 1px rgba(0, 0, 0, 0.15);\n",
              "      filter: drop-shadow(0px 1px 2px rgba(0, 0, 0, 0.3));\n",
              "      fill: #FFFFFF;\n",
              "    }\n",
              "  </style>\n",
              "\n",
              "      <script>\n",
              "        const buttonEl =\n",
              "          document.querySelector('#df-a5d5a308-701d-44f2-8632-47141d6241c5 button.colab-df-convert');\n",
              "        buttonEl.style.display =\n",
              "          google.colab.kernel.accessAllowed ? 'block' : 'none';\n",
              "\n",
              "        async function convertToInteractive(key) {\n",
              "          const element = document.querySelector('#df-a5d5a308-701d-44f2-8632-47141d6241c5');\n",
              "          const dataTable =\n",
              "            await google.colab.kernel.invokeFunction('convertToInteractive',\n",
              "                                                     [key], {});\n",
              "          if (!dataTable) return;\n",
              "\n",
              "          const docLinkHtml = 'Like what you see? Visit the ' +\n",
              "            '<a target=\"_blank\" href=https://colab.research.google.com/notebooks/data_table.ipynb>data table notebook</a>'\n",
              "            + ' to learn more about interactive tables.';\n",
              "          element.innerHTML = '';\n",
              "          dataTable['output_type'] = 'display_data';\n",
              "          await google.colab.output.renderOutput(dataTable, element);\n",
              "          const docLink = document.createElement('div');\n",
              "          docLink.innerHTML = docLinkHtml;\n",
              "          element.appendChild(docLink);\n",
              "        }\n",
              "      </script>\n",
              "    </div>\n",
              "  </div>\n",
              "  "
            ],
            "text/plain": [
              "                               Open      High       Low     Close  Volume  \\\n",
              "Date                                                                        \n",
              "2022-03-30 19:00:00+00:00  0.337632  0.334091  0.328454  0.328253    -1.0   \n",
              "2022-03-30 20:00:00+00:00  0.329012  0.330506  0.332318  0.333340    -1.0   \n",
              "2022-03-30 21:00:00+00:00  0.333956  0.332160  0.329189  0.324935    -1.0   \n",
              "2022-03-30 22:00:00+00:00  0.325808  0.324650  0.326962  0.327486    -1.0   \n",
              "2022-03-30 23:00:00+00:00  0.328176  0.328971  0.331724  0.328883    -1.0   \n",
              "\n",
              "                           volume_adi  volume_obv  volume_cmf  volume_fi  \\\n",
              "Date                                                                       \n",
              "2022-03-30 19:00:00+00:00   -0.194149   -0.655751    0.114038  -0.914895   \n",
              "2022-03-30 20:00:00+00:00   -0.194148   -0.655751    0.164263  -0.914895   \n",
              "2022-03-30 21:00:00+00:00   -0.194148   -0.655751    0.435178  -0.914895   \n",
              "2022-03-30 22:00:00+00:00   -0.194148   -0.655751    0.298307  -0.914895   \n",
              "2022-03-30 23:00:00+00:00   -0.194149   -0.655751    0.155322  -0.914895   \n",
              "\n",
              "                           volume_em  ...  momentum_ppo  momentum_ppo_signal  \\\n",
              "Date                                  ...                                      \n",
              "2022-03-30 19:00:00+00:00  -0.671837  ...     -0.017918            -0.048404   \n",
              "2022-03-30 20:00:00+00:00  -0.670234  ...     -0.017549            -0.048310   \n",
              "2022-03-30 21:00:00+00:00  -0.670756  ...     -0.025906            -0.050066   \n",
              "2022-03-30 22:00:00+00:00  -0.670756  ...     -0.028776            -0.052099   \n",
              "2022-03-30 23:00:00+00:00  -0.670035  ...     -0.028594            -0.053686   \n",
              "\n",
              "                           momentum_ppo_hist  momentum_pvo  \\\n",
              "Date                                                         \n",
              "2022-03-30 19:00:00+00:00           0.126770     -0.128626   \n",
              "2022-03-30 20:00:00+00:00           0.127514     -0.107011   \n",
              "2022-03-30 21:00:00+00:00           0.109851     -0.171120   \n",
              "2022-03-30 22:00:00+00:00           0.107203     -0.242689   \n",
              "2022-03-30 23:00:00+00:00           0.111467     -0.204742   \n",
              "\n",
              "                           momentum_pvo_signal  momentum_pvo_hist  \\\n",
              "Date                                                                \n",
              "2022-03-30 19:00:00+00:00            -0.239167          -0.474107   \n",
              "2022-03-30 20:00:00+00:00            -0.212799          -0.479088   \n",
              "2022-03-30 21:00:00+00:00            -0.204530          -0.555057   \n",
              "2022-03-30 22:00:00+00:00            -0.212233          -0.622097   \n",
              "2022-03-30 23:00:00+00:00            -0.210804          -0.583765   \n",
              "\n",
              "                           momentum_kama  others_dr  others_dlr  others_cr  \n",
              "Date                                                                        \n",
              "2022-03-30 19:00:00+00:00       0.363838   0.214737   -0.014671   0.328253  \n",
              "2022-03-30 20:00:00+00:00       0.363616   0.228905    0.007574   0.333340  \n",
              "2022-03-30 21:00:00+00:00       0.362902   0.215002   -0.014252   0.324935  \n",
              "2022-03-30 22:00:00+00:00       0.362295   0.226293    0.003487   0.327486  \n",
              "2022-03-30 23:00:00+00:00       0.362151   0.225096    0.001612   0.328883  \n",
              "\n",
              "[5 rows x 91 columns]"
            ]
          },
          "execution_count": 26,
          "metadata": {},
          "output_type": "execute_result"
        }
      ],
      "source": [
        "df_scaled.tail(5)"
      ]
    },
    {
      "cell_type": "code",
      "execution_count": null,
      "metadata": {
        "colab": {
          "base_uri": "https://localhost:8080/",
          "height": 368
        },
        "id": "wd-ZAI6SEW7x",
        "outputId": "96f029dc-a59f-4963-d4a4-872af2a30f93"
      },
      "outputs": [
        {
          "data": {
            "image/png": "[encoded data removed]",
            "text/plain": [
              "<Figure size 2000x400 with 1 Axes>"
            ]
          },
          "metadata": {},
          "output_type": "display_data"
        }
      ],
      "source": [
        "# prepare data for plotting\n",
        "to_plot_data_y_train = np.zeros(np.concatenate((y_train, y_test)).shape[0])\n",
        "to_plot_data_y_test = np.zeros(np.concatenate((y_train, y_test)).shape[0])\n",
        "\n",
        "to_plot_data_y_train[:y_train.reshape(-1).shape[0]] = y_train.reshape(-1)\n",
        "to_plot_data_y_test[y_train.reshape(-1).shape[0]:] = y_test.reshape(-1)\n",
        "\n",
        "to_plot_data_y_train = np.where(to_plot_data_y_train == 0, None, to_plot_data_y_train)\n",
        "to_plot_data_y_test = np.where(to_plot_data_y_test == 0, None, to_plot_data_y_test)\n",
        "\n",
        "## plots\n",
        "fig = figure(figsize=(25, 5), dpi=80)\n",
        "fig.patch.set_facecolor((1.0, 1.0, 1.0))\n",
        "plt.plot(to_plot_data_y_train, label=\"Prices (train)\", color='blue')\n",
        "plt.plot(to_plot_data_y_test,\n",
        "         label=\"Prices (test)\", color='orange')\n",
        "\n",
        "plt.title(\"Daily close prices - showing training and validation data\")\n",
        "plt.grid(False)\n",
        "plt.legend()\n",
        "plt.show()\n"
      ]
    },
    {
      "cell_type": "code",
      "execution_count": null,
      "metadata": {
        "colab": {
          "base_uri": "https://localhost:8080/"
        },
        "id": "ERliGI33EW7x",
        "outputId": "183080b3-cfd7-421c-af31-ffffea2e7e7f"
      },
      "outputs": [
        {
          "name": "stdout",
          "output_type": "stream",
          "text": [
            "Train data shape (13036, 96, 90) (13036,)\n",
            "Test data shape (3260, 96, 90) (3260,)\n"
          ]
        }
      ],
      "source": [
        "class TimeSeriesDataset(Dataset):\n",
        "    def __init__(self, x, y):\n",
        "        self.x = x.astype(np.float32)\n",
        "        self.y = y.astype(np.float32)\n",
        "\n",
        "    def __len__(self):\n",
        "        return len(self.x)\n",
        "\n",
        "    def __getitem__(self, idx):\n",
        "        return (self.x[idx], self.y[idx])\n",
        "\n",
        "\n",
        "dataset_train = TimeSeriesDataset(x_train, y_train)\n",
        "dataset_test = TimeSeriesDataset(x_test, y_test)\n",
        "\n",
        "print(\"Train data shape\", dataset_train.x.shape, dataset_train.y.shape)\n",
        "print(\"Test data shape\", dataset_test.x.shape, dataset_test.y.shape)"
      ]
    },
    {
      "cell_type": "markdown",
      "metadata": {
        "id": "GDE-i2P8EW7y"
      },
      "source": [
        "# Model"
      ]
    },
    {
      "cell_type": "markdown",
      "metadata": {
        "id": "YOpKemOsEW7y"
      },
      "source": [
        "## Create Model"
      ]
    },
    {
      "cell_type": "code",
      "execution_count": null,
      "metadata": {
        "id": "JdjLkiyMg7xV"
      },
      "outputs": [],
      "source": [
        "class LSTM(nn.Module):\n",
        "    def __init__(self, input_dim, hidden_dim, num_layers, output_dim, dropout_prob = 0):\n",
        "        super(LSTM, self).__init__()\n",
        "\n",
        "        # Defining the number of layers and the nodes in each layer\n",
        "        self.hidden_dim = hidden_dim\n",
        "        self.num_layers = num_layers\n",
        "\n",
        "        # LSTM layers\n",
        "        self.lstm = nn.LSTM(\n",
        "            input_dim, hidden_dim, num_layers, batch_first=True, dropout=dropout_prob\n",
        "        )\n",
        "\n",
        "        # Fully connected layer\n",
        "        self.fc = nn.Linear(hidden_dim, output_dim)\n",
        "\n",
        "    def forward(self, x):\n",
        "        # Initializing hidden state for first input with zeros\n",
        "        h0 = torch.zeros(self.num_layers, x.size(0), self.hidden_dim).requires_grad_().to(device)\n",
        "\n",
        "        # Initializing cell state for first input with zeros\n",
        "        c0 = torch.zeros(self.num_layers, x.size(0), self.hidden_dim).requires_grad_().to(device)\n",
        "\n",
        "        # We need to detach as we are doing truncated backpropagation through time (BPTT)\n",
        "        # If we don't, we'll backprop all the way to the start even after going through another batch\n",
        "        # Forward propagation by passing in the input, hidden state, and cell state into the model\n",
        "        out, (hn, cn) = self.lstm(x, (h0.detach(), c0.detach()))\n",
        "\n",
        "        # Reshaping the outputs in the shape of (batch_size, seq_length, hidden_size)\n",
        "        # so that it can fit into the fully connected layer\n",
        "        out = out[:, -1, :]\n",
        "\n",
        "        # Convert the final state to our desired output shape (batch_size, output_dim)\n",
        "        out = self.fc(out).reshape(-1)\n",
        "\n",
        "        return out"
      ]
    },
    {
      "cell_type": "code",
      "execution_count": null,
      "metadata": {
        "colab": {
          "base_uri": "https://localhost:8080/"
        },
        "id": "P8pCynkSEW7y",
        "outputId": "7f12aebe-df70-422f-c844-2b0ffe8eea04"
      },
      "outputs": [
        {
          "name": "stdout",
          "output_type": "stream",
          "text": [
            "LSTM(\n",
            "  (lstm): LSTM(90, 16, num_layers=3, batch_first=True)\n",
            "  (fc): Linear(in_features=16, out_features=1, bias=True)\n",
            ")\n"
          ]
        }
      ],
      "source": [
        "input_dim = x_train.shape[2]\n",
        "hidden_dim = HIDDEN_DIM\n",
        "num_layers = NUM_LAYERS\n",
        "output_dim = 1\n",
        "\n",
        "model = LSTM(input_dim=input_dim, hidden_dim=hidden_dim, num_layers=num_layers, output_dim=output_dim)\n",
        "print(model)"
      ]
    },
    {
      "cell_type": "markdown",
      "metadata": {
        "id": "JADxgTsIEW7z"
      },
      "source": [
        "## Model Training"
      ]
    },
    {
      "cell_type": "code",
      "execution_count": null,
      "metadata": {
        "id": "F9IpRJyNEW7z"
      },
      "outputs": [],
      "source": [
        "train_dataloader = DataLoader(dataset_train, batch_size=256, shuffle=True)"
      ]
    },
    {
      "cell_type": "code",
      "execution_count": null,
      "metadata": {
        "colab": {
          "base_uri": "https://localhost:8080/"
        },
        "id": "q0PFOVxNsBJU",
        "outputId": "14870681-0791-4280-af65-48bae61bb2a1"
      },
      "outputs": [
        {
          "name": "stdout",
          "output_type": "stream",
          "text": [
            "Epoch[10/50] | T: 9.75 | train loss:0.00007848\n",
            "Epoch[20/50] | T: 9.85 | train loss:0.00004802\n",
            "Epoch[30/50] | T: 9.96 | train loss:0.00003657\n",
            "Epoch[40/50] | T: 9.97 | train loss:0.00003115\n",
            "Epoch[50/50] | T: 9.83 | train loss:0.00003054\n"
          ]
        }
      ],
      "source": [
        "num_epochs = EPOCHS\n",
        "print_every = 10\n",
        "train_losses = []\n",
        "\n",
        "model = LSTM(input_dim=input_dim, hidden_dim=hidden_dim, num_layers=num_layers, output_dim=output_dim).to(device)\n",
        "model.train()\n",
        "\n",
        "criterion = torch.nn.MSELoss(reduction='mean')\n",
        "optimizer = torch.optim.Adam(model.parameters(), lr=LR)\n",
        "\n",
        "for epoch in range(num_epochs+1):\n",
        "    epoch_loss = 0\n",
        "    start_time = time.time()\n",
        "\n",
        "    for (inputs, labels) in train_dataloader:\n",
        "        # Step 1: Remember that Pytorch accumulates gradients.\n",
        "        # We need to clear them out before each instance\n",
        "        optimizer.zero_grad()\n",
        "\n",
        "        # Step 2: Get our inputs ready for the network\n",
        "        batchsize = inputs.shape[0]\n",
        "        inputs = inputs.to(device)\n",
        "        labels = labels.to(device)\n",
        "\n",
        "        # Step 3: Run forward pass\n",
        "        outputs = model(inputs)\n",
        "        outputs = outputs.reshape(-1)\n",
        "\n",
        "        # Step 4: Compute the loss, gradients, and update the parameters\n",
        "        loss = criterion(outputs, labels)\n",
        "        loss.backward()\n",
        "        optimizer.step()\n",
        "\n",
        "        epoch_loss += (loss.detach().item() / batchsize)\n",
        "\n",
        "    train_losses.append(epoch_loss)\n",
        "    epoch_time = (time.time() - start_time) * 10\n",
        "\n",
        "    if epoch % print_every == 0 and epoch > 0:\n",
        "        print('Epoch[{}/{}] | T: {:.2f} | train loss:{:.8f}'.format(epoch, num_epochs, epoch_time, epoch_loss))"
      ]
    },
    {
      "cell_type": "code",
      "execution_count": null,
      "metadata": {
        "colab": {
          "base_uri": "https://localhost:8080/",
          "height": 334
        },
        "id": "HpztuRkjEW70",
        "outputId": "2fea601e-252e-4932-e4c1-9f18fb0702ae"
      },
      "outputs": [
        {
          "data": {
            "image/png": "[encoded data removed]",
            "text/plain": [
              "<Figure size 1800x360 with 1 Axes>"
            ]
          },
          "metadata": {},
          "output_type": "display_data"
        }
      ],
      "source": [
        "fig = figure(figsize=(25, 5))\n",
        "plt.plot(train_losses)\n",
        "plt.xlabel(\"Epoch\")\n",
        "plt.ylabel(\"Loss\")\n",
        "\n",
        "plt.grid(False)\n",
        "plt.show()"
      ]
    },
    {
      "cell_type": "markdown",
      "metadata": {
        "id": "Sb20uJc7EW70"
      },
      "source": [
        "## Model Evaluation"
      ]
    },
    {
      "cell_type": "code",
      "execution_count": null,
      "metadata": {
        "id": "B3LoinlUgJ0k"
      },
      "outputs": [],
      "source": [
        "# Set shuffle to false\n",
        "train_dataloader = DataLoader(dataset_train, batch_size=128, shuffle=False)\n",
        "test_dataloader = DataLoader(dataset_test, batch_size=128, shuffle=False)"
      ]
    },
    {
      "cell_type": "code",
      "execution_count": null,
      "metadata": {
        "colab": {
          "base_uri": "https://localhost:8080/"
        },
        "id": "46LD_yXvEW70",
        "outputId": "851e9536-fc7f-44b8-c6bb-69099319d5b5"
      },
      "outputs": [
        {
          "data": {
            "text/plain": [
              "LSTM(\n",
              "  (lstm): LSTM(90, 16, num_layers=3, batch_first=True)\n",
              "  (fc): Linear(in_features=16, out_features=1, bias=True)\n",
              ")"
            ]
          },
          "execution_count": 35,
          "metadata": {},
          "output_type": "execute_result"
        }
      ],
      "source": [
        "model.eval()"
      ]
    },
    {
      "cell_type": "code",
      "execution_count": null,
      "metadata": {
        "id": "Z0ZKCFw0cdh6"
      },
      "outputs": [],
      "source": [
        "predicted_train = np.array([])\n",
        "with torch.no_grad():\n",
        "    for idx, (x, y) in enumerate(train_dataloader):\n",
        "        x = x.to(device)\n",
        "        out = model(x)\n",
        "        out = out.cpu().detach().numpy().reshape(-1)\n",
        "        predicted_train = np.concatenate((predicted_train, out))"
      ]
    },
    {
      "cell_type": "code",
      "execution_count": null,
      "metadata": {
        "id": "9ipFU0gce5ka"
      },
      "outputs": [],
      "source": [
        "predicted_test = np.array([])\n",
        "with torch.no_grad():\n",
        "    for idx, (x, y) in enumerate(test_dataloader):\n",
        "        x = x.to(device)\n",
        "        out = model(x)\n",
        "        out = out.cpu().detach().numpy().reshape(-1)\n",
        "        predicted_test = np.concatenate((predicted_test, out))"
      ]
    },
    {
      "cell_type": "code",
      "execution_count": null,
      "metadata": {
        "colab": {
          "base_uri": "https://localhost:8080/"
        },
        "id": "f73V6EbU7Bwm",
        "outputId": "f4b99d5f-9393-4b41-e143-b00eda993e93"
      },
      "outputs": [
        {
          "data": {
            "text/plain": [
              "((13036,), (3260,), 13036, 3260)"
            ]
          },
          "execution_count": 38,
          "metadata": {},
          "output_type": "execute_result"
        }
      ],
      "source": [
        "predicted_train.shape, predicted_test.shape, dataset_train.y.shape[0], dataset_test.y.shape[0]"
      ]
    },
    {
      "cell_type": "code",
      "execution_count": null,
      "metadata": {
        "colab": {
          "base_uri": "https://localhost:8080/"
        },
        "id": "G9o5jAnDpZQG",
        "outputId": "d3765b8a-c3ca-48aa-8cf2-856a6a377a66"
      },
      "outputs": [
        {
          "data": {
            "text/plain": [
              "array([-0.97734374, -0.97749496, -0.97760731, ...,  0.88665849,\n",
              "        0.8908729 ,  0.88407904])"
            ]
          },
          "execution_count": 39,
          "metadata": {},
          "output_type": "execute_result"
        }
      ],
      "source": [
        "predicted_train"
      ]
    },
    {
      "cell_type": "code",
      "execution_count": null,
      "metadata": {
        "colab": {
          "base_uri": "https://localhost:8080/"
        },
        "id": "d_nB9kbIof55",
        "outputId": "bbc2e6b6-828d-4e7c-9d68-e0034f75f38f"
      },
      "outputs": [
        {
          "data": {
            "text/plain": [
              "((13036,), (3260,))"
            ]
          },
          "execution_count": 40,
          "metadata": {},
          "output_type": "execute_result"
        }
      ],
      "source": [
        "predicted_train = scaler.inverse_transform(predicted_train.reshape(-1, 1)).reshape(-1)\n",
        "predicted_test = scaler.inverse_transform(predicted_test.reshape(-1, 1)).reshape(-1)\n",
        "\n",
        "predicted_train.shape, predicted_test.shape"
      ]
    },
    {
      "cell_type": "code",
      "execution_count": null,
      "metadata": {
        "colab": {
          "base_uri": "https://localhost:8080/"
        },
        "id": "sbp9tUFLk77M",
        "outputId": "23cc3b1a-5099-4091-cc5e-5857d1c67f7c"
      },
      "outputs": [
        {
          "data": {
            "text/plain": [
              "((13036,), (3260,))"
            ]
          },
          "execution_count": 41,
          "metadata": {},
          "output_type": "execute_result"
        }
      ],
      "source": [
        "actual_train = scaler.inverse_transform(dataset_train.y.reshape(-1, 1)).reshape(-1)\n",
        "actual_test = scaler.inverse_transform(dataset_test.y.reshape(-1, 1)).reshape(-1)\n",
        "\n",
        "actual_train.shape, actual_test.shape"
      ]
    },
    {
      "cell_type": "code",
      "execution_count": null,
      "metadata": {
        "colab": {
          "base_uri": "https://localhost:8080/"
        },
        "id": "6IJR_arMhnxB",
        "outputId": "3665029f-eb5e-4a96-c680-3c590d9eef0a"
      },
      "outputs": [
        {
          "name": "stdout",
          "output_type": "stream",
          "text": [
            "Train Results:\n",
            "{'mae': '216.9857', 'rmse': '318.5256', 'r2': '0.9996'}\n"
          ]
        }
      ],
      "source": [
        "print(\"Train Results:\")\n",
        "calculate_metrics(actual_train, predicted_train)"
      ]
    },
    {
      "cell_type": "code",
      "execution_count": null,
      "metadata": {
        "colab": {
          "base_uri": "https://localhost:8080/"
        },
        "id": "uz_wYYhQkV82",
        "outputId": "6e2fe290-9dd7-4dd0-fd1c-b15ae1d69007"
      },
      "outputs": [
        {
          "name": "stdout",
          "output_type": "stream",
          "text": [
            "Test Results:\n",
            "{'mae': '298.0748', 'rmse': '464.6284', 'r2': '0.9934'}\n"
          ]
        }
      ],
      "source": [
        "print(\"Test Results:\")\n",
        "calculate_metrics(actual_test, predicted_test)"
      ]
    },
    {
      "cell_type": "code",
      "execution_count": null,
      "metadata": {
        "colab": {
          "base_uri": "https://localhost:8080/",
          "height": 368
        },
        "id": "byaPuiJ1EW72",
        "outputId": "4096d3c3-230a-430a-9860-b7300c1f6432"
      },
      "outputs": [
        {
          "data": {
            "image/png": "[encoded data removed]",
            "text/plain": [
              "<Figure size 2000x400 with 1 Axes>"
            ]
          },
          "metadata": {},
          "output_type": "display_data"
        }
      ],
      "source": [
        "fig = figure(figsize=(25, 5), dpi=80)\n",
        "fig.patch.set_facecolor((1.0, 1.0, 1.0))\n",
        "\n",
        "plt.plot(np.concatenate((predicted_train, predicted_test)), label=\"Predicted Prices\", color='orange')\n",
        "plt.plot(np.concatenate((actual_train, actual_test)), label=\"Actual Prices\", color='blue')\n",
        "\n",
        "plt.title(\"Predicted and actual daily close prices\")\n",
        "plt.grid(False)\n",
        "plt.legend()\n",
        "plt.show()\n"
      ]
    },
    {
      "cell_type": "code",
      "execution_count": null,
      "metadata": {
        "colab": {
          "base_uri": "https://localhost:8080/",
          "height": 368
        },
        "id": "N3H9w15zrWCp",
        "outputId": "c7adbe45-abe0-4ecb-90f2-0127d2fb8800"
      },
      "outputs": [
        {
          "data": {
            "image/png": "[encoded data removed]",
            "text/plain": [
              "<Figure size 2000x400 with 1 Axes>"
            ]
          },
          "metadata": {},
          "output_type": "display_data"
        }
      ],
      "source": [
        "fig = figure(figsize=(25, 5), dpi=80)\n",
        "fig.patch.set_facecolor((1.0, 1.0, 1.0))\n",
        "\n",
        "plt.plot(np.concatenate((predicted_train, predicted_test))[-10:], label=\"Predicted Prices\", color='orange')\n",
        "plt.plot(np.concatenate((actual_train, actual_test))[-10:], label=\"Actual Prices\", color='blue')\n",
        "\n",
        "plt.title(\"Predicted and actual daily close prices\")\n",
        "plt.legend()\n",
        "plt.show()"
      ]
    },
    {
      "cell_type": "code",
      "execution_count": null,
      "metadata": {
        "colab": {
          "base_uri": "https://localhost:8080/",
          "height": 363
        },
        "id": "jg66Xj4Zx-Dq",
        "outputId": "947d89de-2bbf-42c3-fa7b-d447bed0ec6d"
      },
      "outputs": [
        {
          "data": {
            "text/html": [
              "\n",
              "  <div id=\"df-1b4d9f80-acdf-4235-987b-b1078501b0db\">\n",
              "    <div class=\"colab-df-container\">\n",
              "      <div>\n",
              "<style scoped>\n",
              "    .dataframe tbody tr th:only-of-type {\n",
              "        vertical-align: middle;\n",
              "    }\n",
              "\n",
              "    .dataframe tbody tr th {\n",
              "        vertical-align: top;\n",
              "    }\n",
              "\n",
              "    .dataframe thead th {\n",
              "        text-align: right;\n",
              "    }\n",
              "</style>\n",
              "<table border=\"1\" class=\"dataframe\">\n",
              "  <thead>\n",
              "    <tr style=\"text-align: right;\">\n",
              "      <th></th>\n",
              "      <th>actual</th>\n",
              "      <th>prediction</th>\n",
              "      <th>diff</th>\n",
              "    </tr>\n",
              "  </thead>\n",
              "  <tbody>\n",
              "    <tr>\n",
              "      <th>0</th>\n",
              "      <td>42254.496094</td>\n",
              "      <td>41620.758374</td>\n",
              "      <td>633.737720</td>\n",
              "    </tr>\n",
              "    <tr>\n",
              "      <th>1</th>\n",
              "      <td>42237.109375</td>\n",
              "      <td>42132.609786</td>\n",
              "      <td>104.499589</td>\n",
              "    </tr>\n",
              "    <tr>\n",
              "      <th>2</th>\n",
              "      <td>42367.144531</td>\n",
              "      <td>42183.980892</td>\n",
              "      <td>183.163639</td>\n",
              "    </tr>\n",
              "    <tr>\n",
              "      <th>3</th>\n",
              "      <td>42722.371094</td>\n",
              "      <td>42589.324361</td>\n",
              "      <td>133.046733</td>\n",
              "    </tr>\n",
              "    <tr>\n",
              "      <th>4</th>\n",
              "      <td>42399.292969</td>\n",
              "      <td>43301.715554</td>\n",
              "      <td>-902.422585</td>\n",
              "    </tr>\n",
              "    <tr>\n",
              "      <th>5</th>\n",
              "      <td>42173.929688</td>\n",
              "      <td>42632.327009</td>\n",
              "      <td>-458.397322</td>\n",
              "    </tr>\n",
              "    <tr>\n",
              "      <th>6</th>\n",
              "      <td>42305.964844</td>\n",
              "      <td>42344.211589</td>\n",
              "      <td>-38.246746</td>\n",
              "    </tr>\n",
              "    <tr>\n",
              "      <th>7</th>\n",
              "      <td>42087.792969</td>\n",
              "      <td>42708.388861</td>\n",
              "      <td>-620.595892</td>\n",
              "    </tr>\n",
              "    <tr>\n",
              "      <th>8</th>\n",
              "      <td>42154.015625</td>\n",
              "      <td>42459.858466</td>\n",
              "      <td>-305.842841</td>\n",
              "    </tr>\n",
              "    <tr>\n",
              "      <th>9</th>\n",
              "      <td>42190.273438</td>\n",
              "      <td>42659.234800</td>\n",
              "      <td>-468.961363</td>\n",
              "    </tr>\n",
              "  </tbody>\n",
              "</table>\n",
              "</div>\n",
              "      <button class=\"colab-df-convert\" onclick=\"convertToInteractive('df-1b4d9f80-acdf-4235-987b-b1078501b0db')\"\n",
              "              title=\"Convert this dataframe to an interactive table.\"\n",
              "              style=\"display:none;\">\n",
              "        \n",
              "  <svg xmlns=\"http://www.w3.org/2000/svg\" height=\"24px\"viewBox=\"0 0 24 24\"\n",
              "       width=\"24px\">\n",
              "    <path d=\"M0 0h24v24H0V0z\" fill=\"none\"/>\n",
              "    <path d=\"M18.56 5.44l.94 2.06.94-2.06 2.06-.94-2.06-.94-.94-2.06-.94 2.06-2.06.94zm-11 1L8.5 8.5l.94-2.06 2.06-.94-2.06-.94L8.5 2.5l-.94 2.06-2.06.94zm10 10l.94 2.06.94-2.06 2.06-.94-2.06-.94-.94-2.06-.94 2.06-2.06.94z\"/><path d=\"M17.41 7.96l-1.37-1.37c-.4-.4-.92-.59-1.43-.59-.52 0-1.04.2-1.43.59L10.3 9.45l-7.72 7.72c-.78.78-.78 2.05 0 2.83L4 21.41c.39.39.9.59 1.41.59.51 0 1.02-.2 1.41-.59l7.78-7.78 2.81-2.81c.8-.78.8-2.07 0-2.86zM5.41 20L4 18.59l7.72-7.72 1.47 1.35L5.41 20z\"/>\n",
              "  </svg>\n",
              "      </button>\n",
              "      \n",
              "  <style>\n",
              "    .colab-df-container {\n",
              "      display:flex;\n",
              "      flex-wrap:wrap;\n",
              "      gap: 12px;\n",
              "    }\n",
              "\n",
              "    .colab-df-convert {\n",
              "      background-color: #E8F0FE;\n",
              "      border: none;\n",
              "      border-radius: 50%;\n",
              "      cursor: pointer;\n",
              "      display: none;\n",
              "      fill: #1967D2;\n",
              "      height: 32px;\n",
              "      padding: 0 0 0 0;\n",
              "      width: 32px;\n",
              "    }\n",
              "\n",
              "    .colab-df-convert:hover {\n",
              "      background-color: #E2EBFA;\n",
              "      box-shadow: 0px 1px 2px rgba(60, 64, 67, 0.3), 0px 1px 3px 1px rgba(60, 64, 67, 0.15);\n",
              "      fill: #174EA6;\n",
              "    }\n",
              "\n",
              "    [theme=dark] .colab-df-convert {\n",
              "      background-color: #3B4455;\n",
              "      fill: #D2E3FC;\n",
              "    }\n",
              "\n",
              "    [theme=dark] .colab-df-convert:hover {\n",
              "      background-color: #434B5C;\n",
              "      box-shadow: 0px 1px 3px 1px rgba(0, 0, 0, 0.15);\n",
              "      filter: drop-shadow(0px 1px 2px rgba(0, 0, 0, 0.3));\n",
              "      fill: #FFFFFF;\n",
              "    }\n",
              "  </style>\n",
              "\n",
              "      <script>\n",
              "        const buttonEl =\n",
              "          document.querySelector('#df-1b4d9f80-acdf-4235-987b-b1078501b0db button.colab-df-convert');\n",
              "        buttonEl.style.display =\n",
              "          google.colab.kernel.accessAllowed ? 'block' : 'none';\n",
              "\n",
              "        async function convertToInteractive(key) {\n",
              "          const element = document.querySelector('#df-1b4d9f80-acdf-4235-987b-b1078501b0db');\n",
              "          const dataTable =\n",
              "            await google.colab.kernel.invokeFunction('convertToInteractive',\n",
              "                                                     [key], {});\n",
              "          if (!dataTable) return;\n",
              "\n",
              "          const docLinkHtml = 'Like what you see? Visit the ' +\n",
              "            '<a target=\"_blank\" href=https://colab.research.google.com/notebooks/data_table.ipynb>data table notebook</a>'\n",
              "            + ' to learn more about interactive tables.';\n",
              "          element.innerHTML = '';\n",
              "          dataTable['output_type'] = 'display_data';\n",
              "          await google.colab.output.renderOutput(dataTable, element);\n",
              "          const docLink = document.createElement('div');\n",
              "          docLink.innerHTML = docLinkHtml;\n",
              "          element.appendChild(docLink);\n",
              "        }\n",
              "      </script>\n",
              "    </div>\n",
              "  </div>\n",
              "  "
            ],
            "text/plain": [
              "         actual    prediction        diff\n",
              "0  42254.496094  41620.758374  633.737720\n",
              "1  42237.109375  42132.609786  104.499589\n",
              "2  42367.144531  42183.980892  183.163639\n",
              "3  42722.371094  42589.324361  133.046733\n",
              "4  42399.292969  43301.715554 -902.422585\n",
              "5  42173.929688  42632.327009 -458.397322\n",
              "6  42305.964844  42344.211589  -38.246746\n",
              "7  42087.792969  42708.388861 -620.595892\n",
              "8  42154.015625  42459.858466 -305.842841\n",
              "9  42190.273438  42659.234800 -468.961363"
            ]
          },
          "execution_count": 46,
          "metadata": {},
          "output_type": "execute_result"
        }
      ],
      "source": [
        "pd.DataFrame(data={\"actual\": actual_test[-10:], \"prediction\": predicted_test[-10:], \"diff\": actual_test[-10:] -  predicted_test[-10:]})"
      ]
    },
    {
      "cell_type": "markdown",
      "metadata": {
        "id": "MtWG5j6fncJ5"
      },
      "source": [
        "### Test on April Data"
      ]
    },
    {
      "cell_type": "code",
      "execution_count": null,
      "metadata": {
        "colab": {
          "base_uri": "https://localhost:8080/"
        },
        "id": "qFjHkRONIf7Y",
        "outputId": "3b50b743-7ea4-4f87-d8ca-95a1a049e0ee"
      },
      "outputs": [
        {
          "data": {
            "text/plain": [
              "8153"
            ]
          },
          "execution_count": 47,
          "metadata": {},
          "output_type": "execute_result"
        }
      ],
      "source": [
        "gc.collect()"
      ]
    },
    {
      "cell_type": "code",
      "execution_count": null,
      "metadata": {
        "colab": {
          "base_uri": "https://localhost:8080/",
          "height": 98
        },
        "id": "o-zibg8IFuW9",
        "outputId": "02f69c0f-3233-4d1b-9d5d-b0f74b6f983b"
      },
      "outputs": [
        {
          "name": "stdout",
          "output_type": "stream",
          "text": [
            "\r[*********************100%***********************]  1 of 1 completed\n"
          ]
        },
        {
          "data": {
            "text/html": [
              "\n",
              "  <div id=\"df-7e4b35f5-d923-47d0-8d8a-00701ce0f0c8\">\n",
              "    <div class=\"colab-df-container\">\n",
              "      <div>\n",
              "<style scoped>\n",
              "    .dataframe tbody tr th:only-of-type {\n",
              "        vertical-align: middle;\n",
              "    }\n",
              "\n",
              "    .dataframe tbody tr th {\n",
              "        vertical-align: top;\n",
              "    }\n",
              "\n",
              "    .dataframe thead th {\n",
              "        text-align: right;\n",
              "    }\n",
              "</style>\n",
              "<table border=\"1\" class=\"dataframe\">\n",
              "  <thead>\n",
              "    <tr style=\"text-align: right;\">\n",
              "      <th></th>\n",
              "      <th>Open</th>\n",
              "      <th>High</th>\n",
              "      <th>Low</th>\n",
              "      <th>Close</th>\n",
              "      <th>Volume</th>\n",
              "    </tr>\n",
              "  </thead>\n",
              "  <tbody>\n",
              "    <tr>\n",
              "      <th>2022-04-01 00:00:00+00:00</th>\n",
              "      <td>41138.78125</td>\n",
              "      <td>41293.457031</td>\n",
              "      <td>41122.421875</td>\n",
              "      <td>41203.203125</td>\n",
              "      <td>0</td>\n",
              "    </tr>\n",
              "  </tbody>\n",
              "</table>\n",
              "</div>\n",
              "      <button class=\"colab-df-convert\" onclick=\"convertToInteractive('df-7e4b35f5-d923-47d0-8d8a-00701ce0f0c8')\"\n",
              "              title=\"Convert this dataframe to an interactive table.\"\n",
              "              style=\"display:none;\">\n",
              "        \n",
              "  <svg xmlns=\"http://www.w3.org/2000/svg\" height=\"24px\"viewBox=\"0 0 24 24\"\n",
              "       width=\"24px\">\n",
              "    <path d=\"M0 0h24v24H0V0z\" fill=\"none\"/>\n",
              "    <path d=\"M18.56 5.44l.94 2.06.94-2.06 2.06-.94-2.06-.94-.94-2.06-.94 2.06-2.06.94zm-11 1L8.5 8.5l.94-2.06 2.06-.94-2.06-.94L8.5 2.5l-.94 2.06-2.06.94zm10 10l.94 2.06.94-2.06 2.06-.94-2.06-.94-.94-2.06-.94 2.06-2.06.94z\"/><path d=\"M17.41 7.96l-1.37-1.37c-.4-.4-.92-.59-1.43-.59-.52 0-1.04.2-1.43.59L10.3 9.45l-7.72 7.72c-.78.78-.78 2.05 0 2.83L4 21.41c.39.39.9.59 1.41.59.51 0 1.02-.2 1.41-.59l7.78-7.78 2.81-2.81c.8-.78.8-2.07 0-2.86zM5.41 20L4 18.59l7.72-7.72 1.47 1.35L5.41 20z\"/>\n",
              "  </svg>\n",
              "      </button>\n",
              "      \n",
              "  <style>\n",
              "    .colab-df-container {\n",
              "      display:flex;\n",
              "      flex-wrap:wrap;\n",
              "      gap: 12px;\n",
              "    }\n",
              "\n",
              "    .colab-df-convert {\n",
              "      background-color: #E8F0FE;\n",
              "      border: none;\n",
              "      border-radius: 50%;\n",
              "      cursor: pointer;\n",
              "      display: none;\n",
              "      fill: #1967D2;\n",
              "      height: 32px;\n",
              "      padding: 0 0 0 0;\n",
              "      width: 32px;\n",
              "    }\n",
              "\n",
              "    .colab-df-convert:hover {\n",
              "      background-color: #E2EBFA;\n",
              "      box-shadow: 0px 1px 2px rgba(60, 64, 67, 0.3), 0px 1px 3px 1px rgba(60, 64, 67, 0.15);\n",
              "      fill: #174EA6;\n",
              "    }\n",
              "\n",
              "    [theme=dark] .colab-df-convert {\n",
              "      background-color: #3B4455;\n",
              "      fill: #D2E3FC;\n",
              "    }\n",
              "\n",
              "    [theme=dark] .colab-df-convert:hover {\n",
              "      background-color: #434B5C;\n",
              "      box-shadow: 0px 1px 3px 1px rgba(0, 0, 0, 0.15);\n",
              "      filter: drop-shadow(0px 1px 2px rgba(0, 0, 0, 0.3));\n",
              "      fill: #FFFFFF;\n",
              "    }\n",
              "  </style>\n",
              "\n",
              "      <script>\n",
              "        const buttonEl =\n",
              "          document.querySelector('#df-7e4b35f5-d923-47d0-8d8a-00701ce0f0c8 button.colab-df-convert');\n",
              "        buttonEl.style.display =\n",
              "          google.colab.kernel.accessAllowed ? 'block' : 'none';\n",
              "\n",
              "        async function convertToInteractive(key) {\n",
              "          const element = document.querySelector('#df-7e4b35f5-d923-47d0-8d8a-00701ce0f0c8');\n",
              "          const dataTable =\n",
              "            await google.colab.kernel.invokeFunction('convertToInteractive',\n",
              "                                                     [key], {});\n",
              "          if (!dataTable) return;\n",
              "\n",
              "          const docLinkHtml = 'Like what you see? Visit the ' +\n",
              "            '<a target=\"_blank\" href=https://colab.research.google.com/notebooks/data_table.ipynb>data table notebook</a>'\n",
              "            + ' to learn more about interactive tables.';\n",
              "          element.innerHTML = '';\n",
              "          dataTable['output_type'] = 'display_data';\n",
              "          await google.colab.output.renderOutput(dataTable, element);\n",
              "          const docLink = document.createElement('div');\n",
              "          docLink.innerHTML = docLinkHtml;\n",
              "          element.appendChild(docLink);\n",
              "        }\n",
              "      </script>\n",
              "    </div>\n",
              "  </div>\n",
              "  "
            ],
            "text/plain": [
              "                                  Open          High           Low  \\\n",
              "2022-04-01 00:00:00+00:00  41138.78125  41293.457031  41122.421875   \n",
              "\n",
              "                                  Close  Volume  \n",
              "2022-04-01 00:00:00+00:00  41203.203125       0  "
            ]
          },
          "execution_count": 48,
          "metadata": {},
          "output_type": "execute_result"
        }
      ],
      "source": [
        "# Get the data\n",
        "ticker = \"BTC-EUR\"\n",
        "start_date = '2022-04-01'\n",
        "end_date = '2022-04-11'\n",
        "\n",
        "stock_april = create_dataset(ticker, start_date, end_date)\n",
        "stock_april.head(1)"
      ]
    },
    {
      "cell_type": "code",
      "execution_count": null,
      "metadata": {
        "id": "lZfRkCCGRcJx"
      },
      "outputs": [],
      "source": [
        "%%capture\n",
        "stock = stock_april.copy()\n",
        "stock = ta.add_all_ta_features(stock, open=\"Open\", high=\"High\", low=\"Low\", close=\"Close\", volume=\"Volume\", fillna=True)"
      ]
    },
    {
      "cell_type": "code",
      "execution_count": null,
      "metadata": {
        "id": "gwP7EVpsWP95"
      },
      "outputs": [],
      "source": [
        "scaler = MinMaxScaler(feature_range=(-1, 1))\n",
        "stock['Close'] = scaler.fit_transform(stock['Close'].values.reshape(-1,1))"
      ]
    },
    {
      "cell_type": "code",
      "execution_count": null,
      "metadata": {
        "id": "tSiwSSGfWP4C"
      },
      "outputs": [],
      "source": [
        "stock_scaler = MinMaxScaler(feature_range=(-1, 1))\n",
        "arr_scaled = stock_scaler.fit_transform(stock)\n",
        "\n",
        "stock_scaled = pd.DataFrame(arr_scaled, columns=stock.columns,index=stock.index)\n",
        "stock_scaled['Close'] = stock['Close'].values"
      ]
    },
    {
      "cell_type": "code",
      "execution_count": null,
      "metadata": {
        "colab": {
          "base_uri": "https://localhost:8080/"
        },
        "id": "Gr-RDWOSGJgT",
        "outputId": "3151f733-c40a-44aa-afe1-1f7b893de8ae"
      },
      "outputs": [
        {
          "data": {
            "text/plain": [
              "((144, 96, 90), (144, 1))"
            ]
          },
          "execution_count": 52,
          "metadata": {},
          "output_type": "execute_result"
        }
      ],
      "source": [
        "features, labels = make_windowed_dataset(stock, WINDOW_SIZE, HORIZON)\n",
        "features.shape, labels.shape"
      ]
    },
    {
      "cell_type": "code",
      "execution_count": null,
      "metadata": {
        "id": "p1bK3bItJ8zw"
      },
      "outputs": [],
      "source": [
        "stock_predictions = np.array([])\n",
        "\n",
        "for i in range(0, features.shape[0]):\n",
        "    x = torch.Tensor(features[i]).expand(1, -1, -1)\n",
        "    out = model(x.to(device))\n",
        "    out = out.cpu().detach().numpy()\n",
        "    stock_predictions = np.concatenate((stock_predictions, out.reshape(-1)))"
      ]
    },
    {
      "cell_type": "code",
      "execution_count": null,
      "metadata": {
        "id": "-PHpACbTN33p"
      },
      "outputs": [],
      "source": [
        "labels = scaler.inverse_transform(labels)\n",
        "stock_predictions = scaler.inverse_transform(stock_predictions.reshape(-1, 1)).reshape(-1)"
      ]
    },
    {
      "cell_type": "code",
      "execution_count": null,
      "metadata": {
        "colab": {
          "base_uri": "https://localhost:8080/"
        },
        "id": "J82jST2KOaaN",
        "outputId": "f759523a-a5bd-4207-d0dd-2b6805ce353f"
      },
      "outputs": [
        {
          "name": "stdout",
          "output_type": "stream",
          "text": [
            "Results:\n",
            "{'mae': '944.0215', 'rmse': '1261.2825', 'r2': '-0.1749'}\n"
          ]
        }
      ],
      "source": [
        "print(\"Results:\")\n",
        "calculate_metrics(labels[-len(stock_predictions):], stock_predictions)"
      ]
    },
    {
      "cell_type": "code",
      "execution_count": null,
      "metadata": {
        "colab": {
          "base_uri": "https://localhost:8080/",
          "height": 368
        },
        "id": "dsYoYRjANvEn",
        "outputId": "02215c8a-3417-4efb-9783-edf10f028951"
      },
      "outputs": [
        {
          "data": {
            "image/png": "[encoded data removed]",
            "text/plain": [
              "<Figure size 2000x400 with 1 Axes>"
            ]
          },
          "metadata": {},
          "output_type": "display_data"
        }
      ],
      "source": [
        "fig = figure(figsize=(25, 5), dpi=80)\n",
        "fig.patch.set_facecolor((1.0, 1.0, 1.0))\n",
        "\n",
        "plt.plot(stock_predictions, label=\"Predicted Prices\", color='orange')\n",
        "plt.plot(labels[-len(stock_predictions):], label=\"Actual Prices\", color='blue')\n",
        "\n",
        "plt.title(\"Predicted and actual daily close prices\")\n",
        "plt.grid(False)\n",
        "plt.legend()\n",
        "plt.show()"
      ]
    },
    {
      "cell_type": "markdown",
      "metadata": {
        "id": "FEifhxMmqKhn"
      },
      "source": [
        "# Save the model"
      ]
    },
    {
      "cell_type": "code",
      "execution_count": null,
      "metadata": {
        "id": "NDx9KCtIGO71"
      },
      "outputs": [],
      "source": [
        "model_path = os.path.join(\".\", \"model.pt\")\n",
        "torch.save(model.state_dict(), model_path)"
      ]
    }
  ],
  "metadata": {
    "accelerator": "GPU",
    "colab": {
      "collapsed_sections": [
        "EegTzP2pX942",
        "MtWG5j6fncJ5",
        "FEifhxMmqKhn"
      ],
      "name": "LSTM.ipynb",
      "provenance": []
    },
    "interpreter": {
      "hash": "949777d72b0d2535278d3dc13498b2535136f6dfe0678499012e853ee9abcab1"
    },
    "kernelspec": {
      "display_name": "Python 3.8.12 64-bit",
      "language": "python",
      "name": "python3"
    },
    "language_info": {
      "codemirror_mode": {
        "name": "ipython",
        "version": 3
      },
      "file_extension": ".py",
      "mimetype": "text/x-python",
      "name": "python",
      "nbconvert_exporter": "python",
      "pygments_lexer": "ipython3",
      "version": "3.8.12"
    }
  },
  "nbformat": 4,
  "nbformat_minor": 0
}
